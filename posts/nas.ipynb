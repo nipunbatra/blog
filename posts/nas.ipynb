{
 "cells": [
  {
   "cell_type": "raw",
   "metadata": {},
   "source": "---\nauthor: Nipun Batra\nbadges: true\ncategories:\n- ML\n- automl\n- neural-architecture-search\n- hyperparameter-optimization\n- automated-machine-learning\n- pytorch\ndate: '2023-02-25'\noutput-file: auto-pytorch.html\ntitle: AutoML PyTorch\ntoc: true\n\n---",
   "outputs": []
  },
  {
   "attachments": {},
   "cell_type": "markdown",
   "id": "9ca61d65",
   "metadata": {},
   "source": [
    "In this post, we look at AutoPyTorch, a framework for automated machine learning."
   ]
  },
  {
   "cell_type": "code",
   "execution_count": 1,
   "id": "61b5dd25",
   "metadata": {},
   "outputs": [],
   "source": [
    "import os\n",
    "import tempfile as tmp\n",
    "import warnings\n",
    "import pandas as pd\n",
    "import numpy as np\n",
    "import matplotlib.pyplot as plt\n",
    "%config InlineBackend.figure_format = 'retina'\n",
    "\n",
    "import sklearn.datasets\n",
    "import sklearn.model_selection\n",
    "\n",
    "os.environ['JOBLIB_TEMP_FOLDER'] = tmp.gettempdir()\n",
    "os.environ['OMP_NUM_THREADS'] = '1'\n",
    "os.environ['OPENBLAS_NUM_THREADS'] = '1'\n",
    "os.environ['MKL_NUM_THREADS'] = '1'\n",
    "\n",
    "warnings.simplefilter(action='ignore', category=UserWarning)\n",
    "warnings.simplefilter(action='ignore', category=FutureWarning)\n"
   ]
  },
  {
   "cell_type": "code",
   "execution_count": 2,
   "id": "5063082a",
   "metadata": {},
   "outputs": [],
   "source": [
    "from autoPyTorch.api.tabular_regression import TabularRegressionTask"
   ]
  },
  {
   "cell_type": "code",
   "execution_count": 3,
   "id": "ef5d9eea",
   "metadata": {},
   "outputs": [],
   "source": [
    "X, y = sklearn.datasets.load_diabetes(return_X_y=True, as_frame=True)\n",
    "X_train, X_test, y_train, y_test = sklearn.model_selection.train_test_split(\n",
    "    X,\n",
    "    y,\n",
    "    random_state=1,\n",
    ")\n",
    "\n",
    "# Obtain training and validation data\n",
    "X_train, X_valid, y_train, y_valid = sklearn.model_selection.train_test_split(\n",
    "    X_train,\n",
    "    y_train,\n",
    "    random_state=1,\n",
    ")\n"
   ]
  },
  {
   "cell_type": "code",
   "execution_count": 4,
   "id": "79432f5f",
   "metadata": {},
   "outputs": [
    {
     "data": {
      "text/html": [
       "<div>\n",
       "<style scoped>\n",
       "    .dataframe tbody tr th:only-of-type {\n",
       "        vertical-align: middle;\n",
       "    }\n",
       "\n",
       "    .dataframe tbody tr th {\n",
       "        vertical-align: top;\n",
       "    }\n",
       "\n",
       "    .dataframe thead th {\n",
       "        text-align: right;\n",
       "    }\n",
       "</style>\n",
       "<table border=\"1\" class=\"dataframe\">\n",
       "  <thead>\n",
       "    <tr style=\"text-align: right;\">\n",
       "      <th></th>\n",
       "      <th>age</th>\n",
       "      <th>sex</th>\n",
       "      <th>bmi</th>\n",
       "      <th>bp</th>\n",
       "      <th>s1</th>\n",
       "      <th>s2</th>\n",
       "      <th>s3</th>\n",
       "      <th>s4</th>\n",
       "      <th>s5</th>\n",
       "      <th>s6</th>\n",
       "    </tr>\n",
       "  </thead>\n",
       "  <tbody>\n",
       "    <tr>\n",
       "      <th>52</th>\n",
       "      <td>-0.052738</td>\n",
       "      <td>-0.044642</td>\n",
       "      <td>-0.009439</td>\n",
       "      <td>-0.005671</td>\n",
       "      <td>0.039710</td>\n",
       "      <td>0.044719</td>\n",
       "      <td>0.026550</td>\n",
       "      <td>-0.002592</td>\n",
       "      <td>-0.018118</td>\n",
       "      <td>-0.013504</td>\n",
       "    </tr>\n",
       "    <tr>\n",
       "      <th>121</th>\n",
       "      <td>0.063504</td>\n",
       "      <td>-0.044642</td>\n",
       "      <td>0.017506</td>\n",
       "      <td>0.021872</td>\n",
       "      <td>0.008063</td>\n",
       "      <td>0.021546</td>\n",
       "      <td>-0.036038</td>\n",
       "      <td>0.034309</td>\n",
       "      <td>0.019908</td>\n",
       "      <td>0.011349</td>\n",
       "    </tr>\n",
       "    <tr>\n",
       "      <th>170</th>\n",
       "      <td>0.023546</td>\n",
       "      <td>0.050680</td>\n",
       "      <td>-0.020218</td>\n",
       "      <td>-0.036656</td>\n",
       "      <td>-0.013953</td>\n",
       "      <td>-0.015092</td>\n",
       "      <td>0.059685</td>\n",
       "      <td>-0.039493</td>\n",
       "      <td>-0.096433</td>\n",
       "      <td>-0.017646</td>\n",
       "    </tr>\n",
       "    <tr>\n",
       "      <th>287</th>\n",
       "      <td>0.045341</td>\n",
       "      <td>-0.044642</td>\n",
       "      <td>-0.006206</td>\n",
       "      <td>-0.015999</td>\n",
       "      <td>0.125019</td>\n",
       "      <td>0.125198</td>\n",
       "      <td>0.019187</td>\n",
       "      <td>0.034309</td>\n",
       "      <td>0.032433</td>\n",
       "      <td>-0.005220</td>\n",
       "    </tr>\n",
       "    <tr>\n",
       "      <th>397</th>\n",
       "      <td>0.052606</td>\n",
       "      <td>-0.044642</td>\n",
       "      <td>-0.004050</td>\n",
       "      <td>-0.030918</td>\n",
       "      <td>-0.046975</td>\n",
       "      <td>-0.058307</td>\n",
       "      <td>-0.013948</td>\n",
       "      <td>-0.025840</td>\n",
       "      <td>0.036056</td>\n",
       "      <td>0.023775</td>\n",
       "    </tr>\n",
       "  </tbody>\n",
       "</table>\n",
       "</div>"
      ],
      "text/plain": [
       "          age       sex       bmi        bp        s1        s2        s3  \\\n",
       "52  -0.052738 -0.044642 -0.009439 -0.005671  0.039710  0.044719  0.026550   \n",
       "121  0.063504 -0.044642  0.017506  0.021872  0.008063  0.021546 -0.036038   \n",
       "170  0.023546  0.050680 -0.020218 -0.036656 -0.013953 -0.015092  0.059685   \n",
       "287  0.045341 -0.044642 -0.006206 -0.015999  0.125019  0.125198  0.019187   \n",
       "397  0.052606 -0.044642 -0.004050 -0.030918 -0.046975 -0.058307 -0.013948   \n",
       "\n",
       "           s4        s5        s6  \n",
       "52  -0.002592 -0.018118 -0.013504  \n",
       "121  0.034309  0.019908  0.011349  \n",
       "170 -0.039493 -0.096433 -0.017646  \n",
       "287  0.034309  0.032433 -0.005220  \n",
       "397 -0.025840  0.036056  0.023775  "
      ]
     },
     "execution_count": 4,
     "metadata": {},
     "output_type": "execute_result"
    }
   ],
   "source": [
    "X_train.head()"
   ]
  },
  {
   "cell_type": "code",
   "execution_count": 5,
   "id": "1768946e",
   "metadata": {},
   "outputs": [
    {
     "data": {
      "text/plain": [
       "52      59.0\n",
       "121    173.0\n",
       "170     47.0\n",
       "287    219.0\n",
       "397    198.0\n",
       "Name: target, dtype: float64"
      ]
     },
     "execution_count": 5,
     "metadata": {},
     "output_type": "execute_result"
    }
   ],
   "source": [
    "y_train.head()"
   ]
  },
  {
   "cell_type": "code",
   "execution_count": 6,
   "id": "fac3da0a",
   "metadata": {},
   "outputs": [
    {
     "data": {
      "text/plain": [
       "62.77500577100372"
      ]
     },
     "execution_count": 6,
     "metadata": {},
     "output_type": "execute_result"
    }
   ],
   "source": [
    "from sklearn.ensemble import RandomForestRegressor\n",
    "from sklearn.metrics import mean_squared_error\n",
    "\n",
    "rf = RandomForestRegressor(random_state=1)\n",
    "rf.fit(X_train, y_train)\n",
    "y_pred_rf = rf.predict(X_test)\n",
    "np.sqrt(mean_squared_error(y_test, y_pred_rf))"
   ]
  },
  {
   "cell_type": "code",
   "execution_count": 7,
   "id": "394a8518",
   "metadata": {},
   "outputs": [
    {
     "data": {
      "text/html": [
       "<div>\n",
       "<style scoped>\n",
       "    .dataframe tbody tr th:only-of-type {\n",
       "        vertical-align: middle;\n",
       "    }\n",
       "\n",
       "    .dataframe tbody tr th {\n",
       "        vertical-align: top;\n",
       "    }\n",
       "\n",
       "    .dataframe thead th {\n",
       "        text-align: right;\n",
       "    }\n",
       "</style>\n",
       "<table border=\"1\" class=\"dataframe\">\n",
       "  <thead>\n",
       "    <tr style=\"text-align: right;\">\n",
       "      <th></th>\n",
       "      <th>rf</th>\n",
       "      <th>true</th>\n",
       "    </tr>\n",
       "  </thead>\n",
       "  <tbody>\n",
       "    <tr>\n",
       "      <th>246</th>\n",
       "      <td>140.76</td>\n",
       "      <td>78.0</td>\n",
       "    </tr>\n",
       "    <tr>\n",
       "      <th>425</th>\n",
       "      <td>109.89</td>\n",
       "      <td>152.0</td>\n",
       "    </tr>\n",
       "    <tr>\n",
       "      <th>293</th>\n",
       "      <td>161.93</td>\n",
       "      <td>200.0</td>\n",
       "    </tr>\n",
       "    <tr>\n",
       "      <th>31</th>\n",
       "      <td>70.81</td>\n",
       "      <td>59.0</td>\n",
       "    </tr>\n",
       "    <tr>\n",
       "      <th>359</th>\n",
       "      <td>150.91</td>\n",
       "      <td>311.0</td>\n",
       "    </tr>\n",
       "  </tbody>\n",
       "</table>\n",
       "</div>"
      ],
      "text/plain": [
       "         rf   true\n",
       "246  140.76   78.0\n",
       "425  109.89  152.0\n",
       "293  161.93  200.0\n",
       "31    70.81   59.0\n",
       "359  150.91  311.0"
      ]
     },
     "execution_count": 7,
     "metadata": {},
     "output_type": "execute_result"
    }
   ],
   "source": [
    "pred_df = pd.DataFrame({\"rf\": y_pred_rf, \"true\": y_test})\n",
    "pred_df.head()"
   ]
  },
  {
   "cell_type": "code",
   "execution_count": 8,
   "id": "670facf8",
   "metadata": {},
   "outputs": [
    {
     "data": {
      "text/plain": [
       "{'max_depth': 5, 'n_estimators': 100}"
      ]
     },
     "execution_count": 8,
     "metadata": {},
     "output_type": "execute_result"
    }
   ],
   "source": [
    "# Use validation dataset to find best hyperparameters for RF\n",
    "rf = RandomForestRegressor(random_state=1)\n",
    "hyperparameters = {\"n_estimators\": [10, 100, 1000], \"max_depth\": [1, 5, 10]}\n",
    "\n",
    "from sklearn.model_selection import GridSearchCV\n",
    "\n",
    "grid_search = GridSearchCV(rf, hyperparameters, cv=5, scoring=\"neg_root_mean_squared_error\")\n",
    "grid_search.fit(X_valid, y_valid)\n",
    "\n",
    "grid_search.best_params_\n",
    "\n"
   ]
  },
  {
   "cell_type": "code",
   "execution_count": 9,
   "id": "ac630448",
   "metadata": {},
   "outputs": [
    {
     "data": {
      "text/plain": [
       "61.69476644955032"
      ]
     },
     "execution_count": 9,
     "metadata": {},
     "output_type": "execute_result"
    }
   ],
   "source": [
    "# Train the RF model using the best hyperparameters on train + validation data\n",
    "\n",
    "rf = RandomForestRegressor(**grid_search.best_params_, random_state=1)\n",
    "# Combine train and validation data\n",
    "X_train_overall = pd.concat([X_train, X_valid])\n",
    "y_train_overall = pd.concat([y_train, y_valid])\n",
    "rf.fit(X_train_overall, y_train_overall)\n",
    "y_pred_rf = rf.predict(X_test)\n",
    "np.sqrt(mean_squared_error(y_test, y_pred_rf))"
   ]
  },
  {
   "cell_type": "code",
   "execution_count": 10,
   "id": "27a178f2",
   "metadata": {},
   "outputs": [
    {
     "data": {
      "text/plain": [
       "<autoPyTorch.api.tabular_regression.TabularRegressionTask at 0x1945be6d0>"
      ]
     },
     "execution_count": 10,
     "metadata": {},
     "output_type": "execute_result"
    }
   ],
   "source": [
    "api = TabularRegressionTask()\n",
    "\n",
    "# Do an api search without any memory limit but use only MLPs\n",
    "\n",
    "api.search(\n",
    "    X_train=X_train_overall,\n",
    "    y_train=y_train_overall,\n",
    "    X_test=X_test.copy(),\n",
    "    y_test=y_test.copy(),\n",
    "    optimize_metric='r2',\n",
    "    total_walltime_limit=80,\n",
    "    func_eval_time_limit_secs=10,\n",
    "    dataset_name=\"Diabetes\",\n",
    "    memory_limit=None,\n",
    "    enable_traditional_pipeline=True,\n",
    "    )"
   ]
  },
  {
   "cell_type": "code",
   "execution_count": 11,
   "id": "beaea446",
   "metadata": {},
   "outputs": [
    {
     "name": "stdout",
     "output_type": "stream",
     "text": [
      "{'r2': 0.3026643977627368}\n"
     ]
    },
    {
     "data": {
      "text/plain": [
       "60.33987680300709"
      ]
     },
     "execution_count": 11,
     "metadata": {},
     "output_type": "execute_result"
    }
   ],
   "source": [
    "y_pred = api.predict(X_test)\n",
    "score = api.score(y_pred, y_test)\n",
    "print(score)\n",
    "np.sqrt(mean_squared_error(y_test, y_pred))"
   ]
  },
  {
   "cell_type": "code",
   "execution_count": 12,
   "id": "3a5a8e31",
   "metadata": {},
   "outputs": [
    {
     "name": "stdout",
     "output_type": "stream",
     "text": [
      "autoPyTorch results:\n",
      "\tDataset name: Diabetes\n",
      "\tOptimisation Metric: r2\n",
      "\tBest validation score: 0.4352600925944532\n",
      "\tNumber of target algorithm runs: 13\n",
      "\tNumber of successful target algorithm runs: 10\n",
      "\tNumber of crashed target algorithm runs: 2\n",
      "\tNumber of target algorithms that exceeded the time limit: 1\n",
      "\tNumber of target algorithms that exceeded the memory limit: 0\n",
      "\n"
     ]
    }
   ],
   "source": [
    "# Print statistics from search\n",
    "print(api.sprint_statistics())"
   ]
  },
  {
   "cell_type": "code",
   "execution_count": 13,
   "id": "de8ffab7",
   "metadata": {},
   "outputs": [
    {
     "data": {
      "text/plain": [
       "(0.62,\n",
       " MyTraditionalTabularRegressionPipeline(config='random_forest',\n",
       "                                        dataset_properties={'categorical_columns': [],\n",
       "                                                            'categories': [],\n",
       "                                                            'input_shape': (10,),\n",
       "                                                            'is_small_preprocess': True,\n",
       "                                                            'issigned': True,\n",
       "                                                            'issparse': False,\n",
       "                                                            'numerical_columns': [0,\n",
       "                                                                                  1,\n",
       "                                                                                  2,\n",
       "                                                                                  3,\n",
       "                                                                                  4,\n",
       "                                                                                  5,\n",
       "                                                                                  6,\n",
       "                                                                                  7,\n",
       "                                                                                  8,\n",
       "                                                                                  9],\n",
       "                                                            'output_shape': 1,\n",
       "                                                            'output_type': 'continuous',\n",
       "                                                            'target_type': 'tabular_regression',\n",
       "                                                            'task_type': 'tabular_regression'},\n",
       "                                        init_params={'instance': None},\n",
       "                                        random_state=RandomState(MT19937) at 0x194150240))"
      ]
     },
     "execution_count": 13,
     "metadata": {},
     "output_type": "execute_result"
    }
   ],
   "source": [
    "api.get_models_with_weights()[0]"
   ]
  },
  {
   "cell_type": "code",
   "execution_count": 14,
   "id": "13455e7f",
   "metadata": {},
   "outputs": [
    {
     "data": {
      "text/plain": [
       "(0.18,\n",
       " ________________________________________\n",
       " \tTabularRegressionPipeline\n",
       " ________________________________________\n",
       " 0-) imputer: \n",
       " \tSimpleImputer\n",
       " \n",
       " 1-) variance_threshold: \n",
       " \tVarianceThreshold\n",
       " \n",
       " 2-) coalescer: \n",
       " \tNoCoalescer\n",
       " \n",
       " 3-) encoder: \n",
       " \tNoEncoder\n",
       " \n",
       " 4-) scaler: \n",
       " \tStandardScaler\n",
       " \n",
       " 5-) feature_preprocessor: \n",
       " \tNoFeaturePreprocessor\n",
       " \n",
       " 6-) tabular_transformer: \n",
       " \tTabularColumnTransformer\n",
       " \n",
       " 7-) preprocessing: \n",
       " \tEarlyPreprocessing\n",
       " \n",
       " 8-) network_embedding: \n",
       " \tautoPyTorch.pipeline NoEmbedding\n",
       " \n",
       " 9-) network_backbone: \n",
       " \tautoPyTorch.pipeline ShapedMLPBackbone\n",
       " \n",
       " 10-) network_head: \n",
       " \tautoPyTorch.pipeline FullyConnectedHead\n",
       " \n",
       " 11-) network: \n",
       " \tSequential ({'random_state': RandomState(MT19937) at 0x19465E140, '_fit_requirements': [FitRequirement(name='network_head', supported_types=(<class 'torch.nn.modules.module.Module'>,), user_defined=False, dataset_property=False), FitRequirement(name='network_backbone', supported_types=(<class 'torch.nn.modules.module.Module'>,), user_defined=False, dataset_property=False), FitRequirement(name='network_embedding', supported_types=(<class 'torch.nn.modules.module.Module'>,), user_defined=False, dataset_property=False)], '_cs_updates': {}, 'device': device(type='cpu'), 'network': Sequential(\n",
       "   (0): _NoEmbedding()\n",
       "   (1): Sequential(\n",
       "     (0): Linear(in_features=10, out_features=200, bias=True)\n",
       "     (1): BatchNorm1d(200, eps=1e-05, momentum=0.1, affine=True, track_running_stats=True)\n",
       "     (2): ReLU()\n",
       "     (3): Linear(in_features=200, out_features=200, bias=True)\n",
       "     (4): BatchNorm1d(200, eps=1e-05, momentum=0.1, affine=True, track_running_stats=True)\n",
       "     (5): ReLU()\n",
       "     (6): Linear(in_features=200, out_features=200, bias=True)\n",
       "     (7): BatchNorm1d(200, eps=1e-05, momentum=0.1, affine=True, track_running_stats=True)\n",
       "     (8): ReLU()\n",
       "     (9): Linear(in_features=200, out_features=200, bias=True)\n",
       "     (10): BatchNorm1d(200, eps=1e-05, momentum=0.1, affine=True, track_running_stats=True)\n",
       "     (11): ReLU()\n",
       "     (12): Linear(in_features=200, out_features=200, bias=True)\n",
       "   )\n",
       "   (2): Sequential(\n",
       "     (0): Flatten(start_dim=1, end_dim=-1)\n",
       "     (1): Linear(in_features=200, out_features=128, bias=True)\n",
       "     (2): ReLU()\n",
       "     (3): Linear(in_features=128, out_features=1, bias=True)\n",
       "   )\n",
       " ), 'final_activation': None, 'is_fitted_': True})\n",
       " \n",
       " 12-) network_init: \n",
       " \tXavierInit\n",
       " \n",
       " 13-) optimizer: \n",
       " \tAdam ({'random_state': RandomState(MT19937) at 0x19465E140, '_fit_requirements': [FitRequirement(name='network', supported_types=(<class 'torch.nn.modules.module.Module'>,), user_defined=False, dataset_property=False)], '_cs_updates': {}, 'optimizer': Adam (\n",
       " Parameter Group 0\n",
       "     amsgrad: False\n",
       "     betas: (0.9, 0.9)\n",
       "     capturable: False\n",
       "     eps: 1e-08\n",
       "     foreach: None\n",
       "     lr: 0.01\n",
       "     maximize: False\n",
       "     weight_decay: 0.0\n",
       " ), 'lr': 0.01, 'beta1': 0.9, 'beta2': 0.9, 'weight_decay': 0.0})\n",
       " \n",
       " 14-) lr_scheduler: \n",
       " \tReduceLROnPlateau\n",
       " \n",
       " 15-) data_loader: \n",
       " \tDataLoader\n",
       " \n",
       " 16-) trainer: \n",
       " \tautoPyTorch.pipeline Standard Trainer\n",
       " \n",
       " ________________________________________)"
      ]
     },
     "execution_count": 14,
     "metadata": {},
     "output_type": "execute_result"
    }
   ],
   "source": [
    "api.get_models_with_weights()[1]"
   ]
  },
  {
   "cell_type": "code",
   "execution_count": 15,
   "id": "e8a28ec2",
   "metadata": {},
   "outputs": [
    {
     "data": {
      "text/plain": [
       "(0.16,\n",
       " MyTraditionalTabularRegressionPipeline(config='svm',\n",
       "                                        dataset_properties={'categorical_columns': [],\n",
       "                                                            'categories': [],\n",
       "                                                            'input_shape': (10,),\n",
       "                                                            'is_small_preprocess': True,\n",
       "                                                            'issigned': True,\n",
       "                                                            'issparse': False,\n",
       "                                                            'numerical_columns': [0,\n",
       "                                                                                  1,\n",
       "                                                                                  2,\n",
       "                                                                                  3,\n",
       "                                                                                  4,\n",
       "                                                                                  5,\n",
       "                                                                                  6,\n",
       "                                                                                  7,\n",
       "                                                                                  8,\n",
       "                                                                                  9],\n",
       "                                                            'output_shape': 1,\n",
       "                                                            'output_type': 'continuous',\n",
       "                                                            'target_type': 'tabular_regression',\n",
       "                                                            'task_type': 'tabular_regression'},\n",
       "                                        init_params={'instance': None},\n",
       "                                        random_state=RandomState(MT19937) at 0x194711B40))"
      ]
     },
     "execution_count": 15,
     "metadata": {},
     "output_type": "execute_result"
    }
   ],
   "source": [
    "api.get_models_with_weights()[2]"
   ]
  },
  {
   "cell_type": "markdown",
   "id": "8669230a",
   "metadata": {},
   "source": [
    "What if we fit only NNs?"
   ]
  },
  {
   "cell_type": "code",
   "execution_count": 16,
   "id": "9830034c",
   "metadata": {},
   "outputs": [
    {
     "name": "stdout",
     "output_type": "stream",
     "text": [
      "[WARNING] [2023-02-27 18:29:06,260:Client-autoPyTorch.automl_common.common.utils.backend] Directory /var/folders/1x/wmgn24mn1bbd2vgbqlk98tbc0000gn/T/autoPyTorch_tmp_70d9fdb4-b69e-11ed-b5ea-3c7d0a00e5d9/.autoPyTorch/ensembles does not exist\n",
      "[ERROR] [2023-02-27 18:29:06,261:Client-AutoPyTorch:Diabetes:2] No valid ensemble was created. Please check the logfile for errors. Default to the best individual estimator:[(2, 2, 5.555555555555555)]\n",
      "NoneType: None\n"
     ]
    },
    {
     "data": {
      "text/plain": [
       "<autoPyTorch.api.tabular_regression.TabularRegressionTask at 0x194d3f160>"
      ]
     },
     "execution_count": 16,
     "metadata": {},
     "output_type": "execute_result"
    }
   ],
   "source": [
    "api2 = TabularRegressionTask(seed=2, ensemble_size=0)\n",
    "\n",
    "api2.search(\n",
    "    X_train=X_train,\n",
    "    y_train=y_train,\n",
    "    X_test=X_test.copy(),\n",
    "    y_test=y_test.copy(),\n",
    "    optimize_metric='r2',\n",
    "    total_walltime_limit=40,\n",
    "    func_eval_time_limit_secs=10,\n",
    "    dataset_name=\"Diabetes\",\n",
    "    memory_limit=None,\n",
    "    enable_traditional_pipeline=False,\n",
    "    )\n"
   ]
  },
  {
   "cell_type": "code",
   "execution_count": 17,
   "id": "6ca70344",
   "metadata": {},
   "outputs": [
    {
     "data": {
      "text/plain": [
       "{'r2': -0.37656772470491995}"
      ]
     },
     "execution_count": 17,
     "metadata": {},
     "output_type": "execute_result"
    }
   ],
   "source": [
    "y_pred2 = api2.predict(X_test)\n",
    "score2 = api2.score(y_pred2, y_test)\n",
    "score2"
   ]
  },
  {
   "cell_type": "code",
   "execution_count": 18,
   "id": "44a5fe8a",
   "metadata": {},
   "outputs": [
    {
     "data": {
      "text/plain": [
       "84.77782906691597"
      ]
     },
     "execution_count": 18,
     "metadata": {},
     "output_type": "execute_result"
    }
   ],
   "source": [
    "np.sqrt(mean_squared_error(y_test, y_pred2))"
   ]
  },
  {
   "attachments": {},
   "cell_type": "markdown",
   "id": "3f2704e0",
   "metadata": {},
   "source": [
    "Okay, it seems we are worse than the random forest. Let's see what happened."
   ]
  },
  {
   "cell_type": "code",
   "execution_count": 19,
   "id": "2f00b22b",
   "metadata": {},
   "outputs": [
    {
     "data": {
      "text/plain": [
       "(1.0,\n",
       " ________________________________________\n",
       " \tTabularRegressionPipeline\n",
       " ________________________________________\n",
       " 0-) imputer: \n",
       " \tSimpleImputer\n",
       " \n",
       " 1-) variance_threshold: \n",
       " \tVarianceThreshold\n",
       " \n",
       " 2-) coalescer: \n",
       " \tNoCoalescer\n",
       " \n",
       " 3-) encoder: \n",
       " \tNoEncoder\n",
       " \n",
       " 4-) scaler: \n",
       " \tStandardScaler\n",
       " \n",
       " 5-) feature_preprocessor: \n",
       " \tNoFeaturePreprocessor\n",
       " \n",
       " 6-) tabular_transformer: \n",
       " \tTabularColumnTransformer\n",
       " \n",
       " 7-) preprocessing: \n",
       " \tEarlyPreprocessing\n",
       " \n",
       " 8-) network_embedding: \n",
       " \tautoPyTorch.pipeline NoEmbedding\n",
       " \n",
       " 9-) network_backbone: \n",
       " \tautoPyTorch.pipeline ShapedMLPBackbone\n",
       " \n",
       " 10-) network_head: \n",
       " \tautoPyTorch.pipeline FullyConnectedHead\n",
       " \n",
       " 11-) network: \n",
       " \tSequential ({'random_state': RandomState(MT19937) at 0x194711A40, '_fit_requirements': [FitRequirement(name='network_head', supported_types=(<class 'torch.nn.modules.module.Module'>,), user_defined=False, dataset_property=False), FitRequirement(name='network_backbone', supported_types=(<class 'torch.nn.modules.module.Module'>,), user_defined=False, dataset_property=False), FitRequirement(name='network_embedding', supported_types=(<class 'torch.nn.modules.module.Module'>,), user_defined=False, dataset_property=False)], '_cs_updates': {}, 'device': device(type='cpu'), 'network': Sequential(\n",
       "   (0): _NoEmbedding()\n",
       "   (1): Sequential(\n",
       "     (0): Linear(in_features=10, out_features=200, bias=True)\n",
       "     (1): BatchNorm1d(200, eps=1e-05, momentum=0.1, affine=True, track_running_stats=True)\n",
       "     (2): ReLU()\n",
       "     (3): Linear(in_features=200, out_features=200, bias=True)\n",
       "     (4): BatchNorm1d(200, eps=1e-05, momentum=0.1, affine=True, track_running_stats=True)\n",
       "     (5): ReLU()\n",
       "     (6): Linear(in_features=200, out_features=200, bias=True)\n",
       "     (7): BatchNorm1d(200, eps=1e-05, momentum=0.1, affine=True, track_running_stats=True)\n",
       "     (8): ReLU()\n",
       "     (9): Linear(in_features=200, out_features=200, bias=True)\n",
       "     (10): BatchNorm1d(200, eps=1e-05, momentum=0.1, affine=True, track_running_stats=True)\n",
       "     (11): ReLU()\n",
       "     (12): Linear(in_features=200, out_features=200, bias=True)\n",
       "   )\n",
       "   (2): Sequential(\n",
       "     (0): Flatten(start_dim=1, end_dim=-1)\n",
       "     (1): Linear(in_features=200, out_features=128, bias=True)\n",
       "     (2): ReLU()\n",
       "     (3): Linear(in_features=128, out_features=1, bias=True)\n",
       "   )\n",
       " ), 'final_activation': None, 'is_fitted_': True})\n",
       " \n",
       " 12-) network_init: \n",
       " \tXavierInit\n",
       " \n",
       " 13-) optimizer: \n",
       " \tAdam ({'random_state': RandomState(MT19937) at 0x194711A40, '_fit_requirements': [FitRequirement(name='network', supported_types=(<class 'torch.nn.modules.module.Module'>,), user_defined=False, dataset_property=False)], '_cs_updates': {}, 'optimizer': Adam (\n",
       " Parameter Group 0\n",
       "     amsgrad: False\n",
       "     betas: (0.9, 0.9)\n",
       "     capturable: False\n",
       "     eps: 1e-08\n",
       "     foreach: None\n",
       "     lr: 0.01\n",
       "     maximize: False\n",
       "     weight_decay: 0.0\n",
       " ), 'lr': 0.01, 'beta1': 0.9, 'beta2': 0.9, 'weight_decay': 0.0})\n",
       " \n",
       " 14-) lr_scheduler: \n",
       " \tReduceLROnPlateau\n",
       " \n",
       " 15-) data_loader: \n",
       " \tDataLoader\n",
       " \n",
       " 16-) trainer: \n",
       " \tautoPyTorch.pipeline Standard Trainer\n",
       " \n",
       " ________________________________________)"
      ]
     },
     "execution_count": 19,
     "metadata": {},
     "output_type": "execute_result"
    }
   ],
   "source": [
    "api2.get_models_with_weights()[0]"
   ]
  },
  {
   "cell_type": "code",
   "execution_count": 62,
   "id": "661059be",
   "metadata": {},
   "outputs": [],
   "source": [
    "import torch\n",
    "X_train_torch = torch.from_numpy(X_train.values).float()\n",
    "y_train_torch = torch.from_numpy(y_train.values).float()\n",
    "X_val_torch = torch.from_numpy(X_valid.values).float()\n",
    "y_val_torch = torch.from_numpy(y_valid.values).float()\n",
    "X_test_torch = torch.from_numpy(X_test.values).float()\n",
    "y_test_torch = torch.from_numpy(y_test.values).float()"
   ]
  },
  {
   "cell_type": "code",
   "execution_count": 63,
   "id": "5fd5139d",
   "metadata": {},
   "outputs": [
    {
     "name": "stdout",
     "output_type": "stream",
     "text": [
      "Finished Training\n"
     ]
    }
   ],
   "source": [
    "# Build a simple MLP in PyTorch, train on training data and optimize on validation data\n",
    "\n",
    "\n",
    "import torch.nn as nn\n",
    "import torch.nn.functional as F\n",
    "import torch.optim as optim\n",
    "\n",
    "class Net(nn.Module):\n",
    "    def __init__(self, l1 = 64, l2 = 64, l3 = 64, l2_reg = 0.0):\n",
    "        super(Net, self).__init__()\n",
    "        self.l2_reg = l2_reg\n",
    "        self.fc1 = nn.Linear(10, l1)\n",
    "        self.fc2 = nn.Linear(l1, l2)\n",
    "        self.fc3 = nn.Linear(l2, l3)\n",
    "        self.fc4 = nn.Linear(l3, 1)\n",
    "\n",
    "    def forward(self, x):\n",
    "        # Add a residual connection\n",
    "        x = F.relu(self.fc1(x))\n",
    "        x = F.relu(self.fc2(x))\n",
    "        x = F.relu(self.fc3(x))\n",
    "        x = self.fc4(x)\n",
    "        return x\n",
    "    \n",
    "\n",
    "net = Net()\n",
    "criterion = nn.MSELoss()\n",
    "optimizer = optim.Adam(net.parameters(), lr=0.001)\n",
    "\n",
    "\n",
    "\n",
    "train_losses = []\n",
    "val_losses = []\n",
    "test_losses = []\n",
    "\n",
    "\n",
    "for epoch in range(1000):  # loop over the dataset multiple times and store the train, test loss\n",
    "    optimizer.zero_grad()\n",
    "    outputs = net(X_train_torch)\n",
    "    loss = criterion(outputs, y_train_torch)\n",
    "    # Add L2 regularization\n",
    "    for param in net.parameters():\n",
    "        loss += net.l2_reg * torch.norm(param)\n",
    "    loss.backward()\n",
    "    optimizer.step()\n",
    "\n",
    "    train_losses.append(np.sqrt(loss.item()))\n",
    "    val_losses.append(np.sqrt(criterion(net(X_val_torch), y_val_torch).item()))\n",
    "    test_losses.append(np.sqrt(criterion(net(X_test_torch), y_test_torch).item()))\n",
    "            \n",
    "print('Finished Training')\n"
   ]
  },
  {
   "cell_type": "code",
   "execution_count": 64,
   "id": "bd43a5de",
   "metadata": {},
   "outputs": [
    {
     "data": {
      "text/plain": [
       "<matplotlib.legend.Legend at 0x195db0400>"
      ]
     },
     "execution_count": 64,
     "metadata": {},
     "output_type": "execute_result"
    },
    {
     "data": {
      "image/png": "[encoded data removed]",
      "text/plain": [
       "<Figure size 640x480 with 1 Axes>"
      ]
     },
     "metadata": {
      "image/png": {
       "height": 422,
       "width": 566
      }
     },
     "output_type": "display_data"
    }
   ],
   "source": [
    "plt.plot(train_losses, label=\"Train\")\n",
    "plt.plot(test_losses, label=\"Test\")\n",
    "plt.plot(val_losses, label=\"Val\")\n",
    "plt.legend()"
   ]
  },
  {
   "cell_type": "code",
   "execution_count": 65,
   "id": "7c2e3cdc",
   "metadata": {},
   "outputs": [
    {
     "name": "stdout",
     "output_type": "stream",
     "text": [
      "Test loss: 72.43299031475574\n",
      "Train loss: 79.2251754050993\n",
      "\n"
     ]
    }
   ],
   "source": [
    "with torch.no_grad():\n",
    "    outputs = net(X_test_torch)\n",
    "    loss = criterion(outputs, y_test_torch)\n",
    "    print(f\"Test loss: {np.sqrt(loss.item())}\")\n",
    "    outputs = net(X_train_torch)    \n",
    "    loss = criterion(outputs, y_train_torch)\n",
    "    print(f\"Train loss: {np.sqrt(loss.item())}\")\n",
    "    print(\"\")\n"
   ]
  },
  {
   "cell_type": "code",
   "execution_count": 70,
   "id": "a96d7d46",
   "metadata": {},
   "outputs": [
    {
     "name": "stdout",
     "output_type": "stream",
     "text": [
      "Finished Training\n"
     ]
    }
   ],
   "source": [
    "# Fit the NN model using scaled y values\n",
    "# Using sklearn's StandardScaler to scale the y values\n",
    "\n",
    "from sklearn.preprocessing import StandardScaler\n",
    "\n",
    "scaler = StandardScaler()\n",
    "y_train_scaled = scaler.fit_transform(y_train.values.reshape(-1, 1))\n",
    "y_train_scaled = torch.from_numpy(y_train_scaled).float()\n",
    "y_test_scaled = scaler.transform(y_test.values.reshape(-1, 1))\n",
    "y_test_scaled = torch.from_numpy(y_test_scaled).float()\n",
    "y_valid_scaled = scaler.transform(y_valid.values.reshape(-1, 1))\n",
    "y_valid_scaled = torch.from_numpy(y_valid_scaled).float()\n",
    "\n",
    "net = Net()\n",
    "criterion = nn.MSELoss()\n",
    "optimizer = optim.Adam(net.parameters(), lr=0.01)\n",
    "\n",
    "train_losses = []\n",
    "val_losses = []\n",
    "test_losses = []\n",
    "\n",
    "\n",
    "for epoch in range(4000):  # loop over the dataset multiple times and store the train, test loss\n",
    "    optimizer.zero_grad()\n",
    "    outputs = net(X_train_torch)\n",
    "    loss = criterion(outputs, y_train_scaled)\n",
    "    # Add L2 regularization\n",
    "    for param in net.parameters():\n",
    "        loss += net.l2_reg * torch.norm(param)\n",
    "    loss.backward()\n",
    "    optimizer.step()\n",
    "\n",
    "    train_losses.append(np.sqrt(loss.item()))\n",
    "\n",
    "            \n",
    "print('Finished Training')\n",
    "\n"
   ]
  },
  {
   "cell_type": "code",
   "execution_count": 71,
   "id": "30d415c1",
   "metadata": {},
   "outputs": [
    {
     "data": {
      "text/plain": [
       "[<matplotlib.lines.Line2D at 0x196587eb0>]"
      ]
     },
     "execution_count": 71,
     "metadata": {},
     "output_type": "execute_result"
    },
    {
     "data": {
      "image/png": "[encoded data removed]",
      "text/plain": [
       "<Figure size 640x480 with 1 Axes>"
      ]
     },
     "metadata": {
      "image/png": {
       "height": 422,
       "width": 559
      }
     },
     "output_type": "display_data"
    }
   ],
   "source": [
    "plt.plot(train_losses, label=\"Train\")"
   ]
  },
  {
   "cell_type": "code",
   "execution_count": 72,
   "id": "7b962e2f",
   "metadata": {},
   "outputs": [],
   "source": [
    "# Predict the scaled y values and inverse transform them to get the original y values\n",
    "\n",
    "with torch.no_grad():\n",
    "    outputs = net(X_test_torch)"
   ]
  },
  {
   "cell_type": "code",
   "execution_count": 73,
   "id": "34d14921",
   "metadata": {},
   "outputs": [
    {
     "name": "stdout",
     "output_type": "stream",
     "text": [
      "Test RMSE: 82.79070717489064\n"
     ]
    }
   ],
   "source": [
    "# Inverse transform the scaled y values to get the original y values\n",
    "\n",
    "y_pred = scaler.inverse_transform(outputs.numpy())\n",
    "y_pred = y_pred.reshape(-1)\n",
    "print(f\"Test RMSE: {np.sqrt(mean_squared_error(y_test, y_pred))}\")"
   ]
  },
  {
   "cell_type": "code",
   "execution_count": 74,
   "id": "9cc481b0",
   "metadata": {},
   "outputs": [
    {
     "data": {
      "text/plain": [
       "<AxesSubplot: xlabel='y_test', ylabel='y_pred'>"
      ]
     },
     "execution_count": 74,
     "metadata": {},
     "output_type": "execute_result"
    },
    {
     "data": {
      "image/png": "[encoded data removed]",
      "text/plain": [
       "<Figure size 640x480 with 1 Axes>"
      ]
     },
     "metadata": {
      "image/png": {
       "height": 450,
       "width": 591
      }
     },
     "output_type": "display_data"
    }
   ],
   "source": [
    "pd.DataFrame({\"y_test\": y_test, \"y_pred\": y_pred}).plot.scatter(x=\"y_test\", y=\"y_pred\")"
   ]
  },
  {
   "cell_type": "code",
   "execution_count": 75,
   "id": "a6e7e23f",
   "metadata": {},
   "outputs": [],
   "source": [
    "# At this point it seems our model is worse than RF, Auto model containing Catboost etc. Let us optimize our NN\n",
    "# I will use Ray Tune to optimize the hyperparameters\n",
    "\n",
    "import ray\n",
    "from ray import tune\n",
    "from ray.tune import CLIReporter\n",
    "from ray.tune.schedulers import ASHAScheduler\n",
    "\n",
    "def train_mlp(config):\n",
    "    net = Net(config[\"l1\"], config[\"l2\"], config[\"l3\"], config[\"l2_reg\"])\n",
    "    \n",
    "    criterion = nn.MSELoss()\n",
    "    \n",
    "    criterion = nn.MSELoss()\n",
    "    optimizer = optim.Adam(net.parameters(), lr=config[\"lr\"])\n",
    "    for epoch in range(1000):  # loop over the dataset multiple times and store the train, test loss\n",
    "        optimizer.zero_grad()\n",
    "        outputs = net(X_train_torch)\n",
    "        loss = criterion(outputs, y_train_scaled)\n",
    "        # Add l2 regularization to loss\n",
    "        l2_reg = torch.tensor(0.)\n",
    "        for param in net.parameters():\n",
    "            l2_reg += torch.norm(param)\n",
    "        loss += config[\"l2_reg\"] * l2_reg\n",
    "        loss.backward()\n",
    "        optimizer.step()\n",
    "    with torch.no_grad():\n",
    "        outputs = net(X_val_torch)\n",
    "        # Inverse transform the scaled y values to get the original y values\n",
    "        y_pred = scaler.inverse_transform(outputs.numpy())\n",
    "        loss = np.sqrt(mean_squared_error(y_valid, y_pred))\n",
    "        return {\"loss\": loss, \"status\": \"ok\"}\n"
   ]
  },
  {
   "cell_type": "code",
   "execution_count": 76,
   "id": "7d9c778f",
   "metadata": {},
   "outputs": [
    {
     "data": {
      "text/html": [
       "<div class=\"trialProgress\">\n",
       "  <h3>Trial Progress</h3>\n",
       "  <table>\n",
       "<thead>\n",
       "<tr><th>Trial name           </th><th>date               </th><th>done  </th><th>episodes_total  </th><th>experiment_id                   </th><th>hostname           </th><th style=\"text-align: right;\">  iterations_since_restore</th><th style=\"text-align: right;\">   loss</th><th>node_ip  </th><th style=\"text-align: right;\">  pid</th><th>status  </th><th style=\"text-align: right;\">  time_since_restore</th><th style=\"text-align: right;\">  time_this_iter_s</th><th style=\"text-align: right;\">  time_total_s</th><th style=\"text-align: right;\">  timestamp</th><th style=\"text-align: right;\">  timesteps_since_restore</th><th>timesteps_total  </th><th style=\"text-align: right;\">  training_iteration</th><th>trial_id   </th><th style=\"text-align: right;\">  warmup_time</th></tr>\n",
       "</thead>\n",
       "<tbody>\n",
       "<tr><td>train_mlp_c8d42_00000</td><td>2023-02-28_10-08-51</td><td>True  </td><td>                </td><td>684a45c7048544b384d756bd20117055</td><td>Nipuns-iMac-8.local</td><td style=\"text-align: right;\">                         1</td><td style=\"text-align: right;\">76.2275</td><td>127.0.0.1</td><td style=\"text-align: right;\">99588</td><td>ok      </td><td style=\"text-align: right;\">             2.44738</td><td style=\"text-align: right;\">           2.44738</td><td style=\"text-align: right;\">       2.44738</td><td style=\"text-align: right;\"> 1677559131</td><td style=\"text-align: right;\">                        0</td><td>                 </td><td style=\"text-align: right;\">                   1</td><td>c8d42_00000</td><td style=\"text-align: right;\">   0.00341606</td></tr>\n",
       "<tr><td>train_mlp_c8d42_00001</td><td>2023-02-28_10-08-59</td><td>True  </td><td>                </td><td>23a98dd3be3d4ad2abbc0a44970bd41b</td><td>Nipuns-iMac-8.local</td><td style=\"text-align: right;\">                         1</td><td style=\"text-align: right;\">76.2183</td><td>127.0.0.1</td><td style=\"text-align: right;\">99594</td><td>ok      </td><td style=\"text-align: right;\">             4.5987 </td><td style=\"text-align: right;\">           4.5987 </td><td style=\"text-align: right;\">       4.5987 </td><td style=\"text-align: right;\"> 1677559139</td><td style=\"text-align: right;\">                        0</td><td>                 </td><td style=\"text-align: right;\">                   1</td><td>c8d42_00001</td><td style=\"text-align: right;\">   0.00891805</td></tr>\n",
       "<tr><td>train_mlp_c8d42_00002</td><td>2023-02-28_10-08-58</td><td>True  </td><td>                </td><td>f1614c13b37a4966adb785c911a54c11</td><td>Nipuns-iMac-8.local</td><td style=\"text-align: right;\">                         1</td><td style=\"text-align: right;\">76.2261</td><td>127.0.0.1</td><td style=\"text-align: right;\">99595</td><td>ok      </td><td style=\"text-align: right;\">             2.89705</td><td style=\"text-align: right;\">           2.89705</td><td style=\"text-align: right;\">       2.89705</td><td style=\"text-align: right;\"> 1677559138</td><td style=\"text-align: right;\">                        0</td><td>                 </td><td style=\"text-align: right;\">                   1</td><td>c8d42_00002</td><td style=\"text-align: right;\">   0.0356119 </td></tr>\n",
       "<tr><td>train_mlp_c8d42_00003</td><td>2023-02-28_10-08-57</td><td>True  </td><td>                </td><td>e9475ee5dd1f4d1289ef144d1a7879ad</td><td>Nipuns-iMac-8.local</td><td style=\"text-align: right;\">                         1</td><td style=\"text-align: right;\">51.6545</td><td>127.0.0.1</td><td style=\"text-align: right;\">99596</td><td>ok      </td><td style=\"text-align: right;\">             2.83387</td><td style=\"text-align: right;\">           2.83387</td><td style=\"text-align: right;\">       2.83387</td><td style=\"text-align: right;\"> 1677559137</td><td style=\"text-align: right;\">                        0</td><td>                 </td><td style=\"text-align: right;\">                   1</td><td>c8d42_00003</td><td style=\"text-align: right;\">   0.00670218</td></tr>\n",
       "<tr><td>train_mlp_c8d42_00004</td><td>2023-02-28_10-08-57</td><td>True  </td><td>                </td><td>97bdec82d1ec44069bc84210c4a6a18e</td><td>Nipuns-iMac-8.local</td><td style=\"text-align: right;\">                         1</td><td style=\"text-align: right;\">65.3017</td><td>127.0.0.1</td><td style=\"text-align: right;\">99597</td><td>ok      </td><td style=\"text-align: right;\">             2.6755 </td><td style=\"text-align: right;\">           2.6755 </td><td style=\"text-align: right;\">       2.6755 </td><td style=\"text-align: right;\"> 1677559137</td><td style=\"text-align: right;\">                        0</td><td>                 </td><td style=\"text-align: right;\">                   1</td><td>c8d42_00004</td><td style=\"text-align: right;\">   0.00920701</td></tr>\n",
       "<tr><td>train_mlp_c8d42_00005</td><td>2023-02-28_10-08-59</td><td>True  </td><td>                </td><td>3db458192e6944118049623bfe3128a4</td><td>Nipuns-iMac-8.local</td><td style=\"text-align: right;\">                         1</td><td style=\"text-align: right;\">76.1747</td><td>127.0.0.1</td><td style=\"text-align: right;\">99598</td><td>ok      </td><td style=\"text-align: right;\">             4.36245</td><td style=\"text-align: right;\">           4.36245</td><td style=\"text-align: right;\">       4.36245</td><td style=\"text-align: right;\"> 1677559139</td><td style=\"text-align: right;\">                        0</td><td>                 </td><td style=\"text-align: right;\">                   1</td><td>c8d42_00005</td><td style=\"text-align: right;\">   0.00544381</td></tr>\n",
       "<tr><td>train_mlp_c8d42_00006</td><td>2023-02-28_10-08-59</td><td>True  </td><td>                </td><td>6b794ba131304c9e841b2d671a1a4693</td><td>Nipuns-iMac-8.local</td><td style=\"text-align: right;\">                         1</td><td style=\"text-align: right;\">76.2181</td><td>127.0.0.1</td><td style=\"text-align: right;\">99601</td><td>ok      </td><td style=\"text-align: right;\">             4.51009</td><td style=\"text-align: right;\">           4.51009</td><td style=\"text-align: right;\">       4.51009</td><td style=\"text-align: right;\"> 1677559139</td><td style=\"text-align: right;\">                        0</td><td>                 </td><td style=\"text-align: right;\">                   1</td><td>c8d42_00006</td><td style=\"text-align: right;\">   0.00939798</td></tr>\n",
       "<tr><td>train_mlp_c8d42_00007</td><td>2023-02-28_10-09-06</td><td>True  </td><td>                </td><td>38d637c01fcb43d3be8db783cb837ea2</td><td>Nipuns-iMac-8.local</td><td style=\"text-align: right;\">                         1</td><td style=\"text-align: right;\">76.7874</td><td>127.0.0.1</td><td style=\"text-align: right;\">99602</td><td>ok      </td><td style=\"text-align: right;\">            11.1744 </td><td style=\"text-align: right;\">          11.1744 </td><td style=\"text-align: right;\">      11.1744 </td><td style=\"text-align: right;\"> 1677559146</td><td style=\"text-align: right;\">                        0</td><td>                 </td><td style=\"text-align: right;\">                   1</td><td>c8d42_00007</td><td style=\"text-align: right;\">   0.012325  </td></tr>\n",
       "<tr><td>train_mlp_c8d42_00008</td><td>2023-02-28_10-09-00</td><td>True  </td><td>                </td><td>a15c3445ce1e4ffeba2eabf9098820f2</td><td>Nipuns-iMac-8.local</td><td style=\"text-align: right;\">                         1</td><td style=\"text-align: right;\">76.1934</td><td>127.0.0.1</td><td style=\"text-align: right;\">99604</td><td>ok      </td><td style=\"text-align: right;\">             4.98043</td><td style=\"text-align: right;\">           4.98043</td><td style=\"text-align: right;\">       4.98043</td><td style=\"text-align: right;\"> 1677559140</td><td style=\"text-align: right;\">                        0</td><td>                 </td><td style=\"text-align: right;\">                   1</td><td>c8d42_00008</td><td style=\"text-align: right;\">   0.010926  </td></tr>\n",
       "<tr><td>train_mlp_c8d42_00009</td><td>2023-02-28_10-09-00</td><td>True  </td><td>                </td><td>9de7e974434443f6a12e1dbc614a8582</td><td>Nipuns-iMac-8.local</td><td style=\"text-align: right;\">                         1</td><td style=\"text-align: right;\">68.2169</td><td>127.0.0.1</td><td style=\"text-align: right;\">99612</td><td>ok      </td><td style=\"text-align: right;\">             5.00434</td><td style=\"text-align: right;\">           5.00434</td><td style=\"text-align: right;\">       5.00434</td><td style=\"text-align: right;\"> 1677559140</td><td style=\"text-align: right;\">                        0</td><td>                 </td><td style=\"text-align: right;\">                   1</td><td>c8d42_00009</td><td style=\"text-align: right;\">   0.00496888</td></tr>\n",
       "<tr><td>train_mlp_c8d42_00010</td><td>2023-02-28_10-09-00</td><td>True  </td><td>                </td><td>d7fa3bf71c4d44dd90e2988c0e59687a</td><td>Nipuns-iMac-8.local</td><td style=\"text-align: right;\">                         1</td><td style=\"text-align: right;\">76.2198</td><td>127.0.0.1</td><td style=\"text-align: right;\">99613</td><td>ok      </td><td style=\"text-align: right;\">             5.70828</td><td style=\"text-align: right;\">           5.70828</td><td style=\"text-align: right;\">       5.70828</td><td style=\"text-align: right;\"> 1677559140</td><td style=\"text-align: right;\">                        0</td><td>                 </td><td style=\"text-align: right;\">                   1</td><td>c8d42_00010</td><td style=\"text-align: right;\">   0.00938773</td></tr>\n",
       "<tr><td>train_mlp_c8d42_00011</td><td>2023-02-28_10-09-03</td><td>True  </td><td>                </td><td>6e08564fbc6d4f5c9bea59429a196a5e</td><td>Nipuns-iMac-8.local</td><td style=\"text-align: right;\">                         1</td><td style=\"text-align: right;\">52.2075</td><td>127.0.0.1</td><td style=\"text-align: right;\">99614</td><td>ok      </td><td style=\"text-align: right;\">             8.02228</td><td style=\"text-align: right;\">           8.02228</td><td style=\"text-align: right;\">       8.02228</td><td style=\"text-align: right;\"> 1677559143</td><td style=\"text-align: right;\">                        0</td><td>                 </td><td style=\"text-align: right;\">                   1</td><td>c8d42_00011</td><td style=\"text-align: right;\">   0.00922298</td></tr>\n",
       "<tr><td>train_mlp_c8d42_00012</td><td>2023-02-28_10-08-59</td><td>True  </td><td>                </td><td>98349fab3a1b4027bc14d3ce239251fd</td><td>Nipuns-iMac-8.local</td><td style=\"text-align: right;\">                         1</td><td style=\"text-align: right;\">76.1125</td><td>127.0.0.1</td><td style=\"text-align: right;\">99615</td><td>ok      </td><td style=\"text-align: right;\">             4.87773</td><td style=\"text-align: right;\">           4.87773</td><td style=\"text-align: right;\">       4.87773</td><td style=\"text-align: right;\"> 1677559139</td><td style=\"text-align: right;\">                        0</td><td>                 </td><td style=\"text-align: right;\">                   1</td><td>c8d42_00012</td><td style=\"text-align: right;\">   0.00547719</td></tr>\n",
       "<tr><td>train_mlp_c8d42_00013</td><td>2023-02-28_10-08-58</td><td>True  </td><td>                </td><td>6356d7d5564f49ac84f1f5221bccaa3e</td><td>Nipuns-iMac-8.local</td><td style=\"text-align: right;\">                         1</td><td style=\"text-align: right;\">76.2163</td><td>127.0.0.1</td><td style=\"text-align: right;\">99616</td><td>ok      </td><td style=\"text-align: right;\">             3.31126</td><td style=\"text-align: right;\">           3.31126</td><td style=\"text-align: right;\">       3.31126</td><td style=\"text-align: right;\"> 1677559138</td><td style=\"text-align: right;\">                        0</td><td>                 </td><td style=\"text-align: right;\">                   1</td><td>c8d42_00013</td><td style=\"text-align: right;\">   0.0112782 </td></tr>\n",
       "<tr><td>train_mlp_c8d42_00014</td><td>2023-02-28_10-09-00</td><td>True  </td><td>                </td><td>e4c8bef4a7e246c19960353c87f60541</td><td>Nipuns-iMac-8.local</td><td style=\"text-align: right;\">                         1</td><td style=\"text-align: right;\">76.2002</td><td>127.0.0.1</td><td style=\"text-align: right;\">99617</td><td>ok      </td><td style=\"text-align: right;\">             5.44697</td><td style=\"text-align: right;\">           5.44697</td><td style=\"text-align: right;\">       5.44697</td><td style=\"text-align: right;\"> 1677559140</td><td style=\"text-align: right;\">                        0</td><td>                 </td><td style=\"text-align: right;\">                   1</td><td>c8d42_00014</td><td style=\"text-align: right;\">   0.0142629 </td></tr>\n",
       "<tr><td>train_mlp_c8d42_00015</td><td>2023-02-28_10-09-01</td><td>True  </td><td>                </td><td>f91e68c1ff9a486f9f74c54403e236f4</td><td>Nipuns-iMac-8.local</td><td style=\"text-align: right;\">                         1</td><td style=\"text-align: right;\">51.5808</td><td>127.0.0.1</td><td style=\"text-align: right;\">99618</td><td>ok      </td><td style=\"text-align: right;\">             5.94224</td><td style=\"text-align: right;\">           5.94224</td><td style=\"text-align: right;\">       5.94224</td><td style=\"text-align: right;\"> 1677559141</td><td style=\"text-align: right;\">                        0</td><td>                 </td><td style=\"text-align: right;\">                   1</td><td>c8d42_00015</td><td style=\"text-align: right;\">   0.00973487</td></tr>\n",
       "<tr><td>train_mlp_c8d42_00016</td><td>2023-02-28_10-08-59</td><td>True  </td><td>                </td><td>684a45c7048544b384d756bd20117055</td><td>Nipuns-iMac-8.local</td><td style=\"text-align: right;\">                         1</td><td style=\"text-align: right;\">85.4019</td><td>127.0.0.1</td><td style=\"text-align: right;\">99588</td><td>ok      </td><td style=\"text-align: right;\">             4.64298</td><td style=\"text-align: right;\">           4.64298</td><td style=\"text-align: right;\">       4.64298</td><td style=\"text-align: right;\"> 1677559139</td><td style=\"text-align: right;\">                        0</td><td>                 </td><td style=\"text-align: right;\">                   1</td><td>c8d42_00016</td><td style=\"text-align: right;\">   0.00341606</td></tr>\n",
       "<tr><td>train_mlp_c8d42_00017</td><td>2023-02-28_10-09-01</td><td>True  </td><td>                </td><td>97bdec82d1ec44069bc84210c4a6a18e</td><td>Nipuns-iMac-8.local</td><td style=\"text-align: right;\">                         1</td><td style=\"text-align: right;\">76.2217</td><td>127.0.0.1</td><td style=\"text-align: right;\">99597</td><td>ok      </td><td style=\"text-align: right;\">             3.26168</td><td style=\"text-align: right;\">           3.26168</td><td style=\"text-align: right;\">       3.26168</td><td style=\"text-align: right;\"> 1677559141</td><td style=\"text-align: right;\">                        0</td><td>                 </td><td style=\"text-align: right;\">                   1</td><td>c8d42_00017</td><td style=\"text-align: right;\">   0.00920701</td></tr>\n",
       "<tr><td>train_mlp_c8d42_00018</td><td>2023-02-28_10-09-00</td><td>True  </td><td>                </td><td>e9475ee5dd1f4d1289ef144d1a7879ad</td><td>Nipuns-iMac-8.local</td><td style=\"text-align: right;\">                         1</td><td style=\"text-align: right;\">52.4798</td><td>127.0.0.1</td><td style=\"text-align: right;\">99596</td><td>ok      </td><td style=\"text-align: right;\">             2.94631</td><td style=\"text-align: right;\">           2.94631</td><td style=\"text-align: right;\">       2.94631</td><td style=\"text-align: right;\"> 1677559140</td><td style=\"text-align: right;\">                        0</td><td>                 </td><td style=\"text-align: right;\">                   1</td><td>c8d42_00018</td><td style=\"text-align: right;\">   0.00670218</td></tr>\n",
       "<tr><td>train_mlp_c8d42_00019</td><td>2023-02-28_10-09-10</td><td>True  </td><td>                </td><td>f1614c13b37a4966adb785c911a54c11</td><td>Nipuns-iMac-8.local</td><td style=\"text-align: right;\">                         1</td><td style=\"text-align: right;\">51.5559</td><td>127.0.0.1</td><td style=\"text-align: right;\">99595</td><td>ok      </td><td style=\"text-align: right;\">            12.1603 </td><td style=\"text-align: right;\">          12.1603 </td><td style=\"text-align: right;\">      12.1603 </td><td style=\"text-align: right;\"> 1677559150</td><td style=\"text-align: right;\">                        0</td><td>                 </td><td style=\"text-align: right;\">                   1</td><td>c8d42_00019</td><td style=\"text-align: right;\">   0.0356119 </td></tr>\n",
       "<tr><td>train_mlp_c8d42_00020</td><td>2023-02-28_10-09-04</td><td>True  </td><td>                </td><td>6356d7d5564f49ac84f1f5221bccaa3e</td><td>Nipuns-iMac-8.local</td><td style=\"text-align: right;\">                         1</td><td style=\"text-align: right;\">54.8401</td><td>127.0.0.1</td><td style=\"text-align: right;\">99616</td><td>ok      </td><td style=\"text-align: right;\">             5.67631</td><td style=\"text-align: right;\">           5.67631</td><td style=\"text-align: right;\">       5.67631</td><td style=\"text-align: right;\"> 1677559144</td><td style=\"text-align: right;\">                        0</td><td>                 </td><td style=\"text-align: right;\">                   1</td><td>c8d42_00020</td><td style=\"text-align: right;\">   0.0112782 </td></tr>\n",
       "<tr><td>train_mlp_c8d42_00021</td><td>2023-02-28_10-09-03</td><td>True  </td><td>                </td><td>3db458192e6944118049623bfe3128a4</td><td>Nipuns-iMac-8.local</td><td style=\"text-align: right;\">                         1</td><td style=\"text-align: right;\">80.9971</td><td>127.0.0.1</td><td style=\"text-align: right;\">99598</td><td>ok      </td><td style=\"text-align: right;\">             4.02288</td><td style=\"text-align: right;\">           4.02288</td><td style=\"text-align: right;\">       4.02288</td><td style=\"text-align: right;\"> 1677559143</td><td style=\"text-align: right;\">                        0</td><td>                 </td><td style=\"text-align: right;\">                   1</td><td>c8d42_00021</td><td style=\"text-align: right;\">   0.00544381</td></tr>\n",
       "<tr><td>train_mlp_c8d42_00022</td><td>2023-02-28_10-09-04</td><td>True  </td><td>                </td><td>6b794ba131304c9e841b2d671a1a4693</td><td>Nipuns-iMac-8.local</td><td style=\"text-align: right;\">                         1</td><td style=\"text-align: right;\">62.7729</td><td>127.0.0.1</td><td style=\"text-align: right;\">99601</td><td>ok      </td><td style=\"text-align: right;\">             5.19184</td><td style=\"text-align: right;\">           5.19184</td><td style=\"text-align: right;\">       5.19184</td><td style=\"text-align: right;\"> 1677559144</td><td style=\"text-align: right;\">                        0</td><td>                 </td><td style=\"text-align: right;\">                   1</td><td>c8d42_00022</td><td style=\"text-align: right;\">   0.00939798</td></tr>\n",
       "<tr><td>train_mlp_c8d42_00023</td><td>2023-02-28_10-09-03</td><td>True  </td><td>                </td><td>23a98dd3be3d4ad2abbc0a44970bd41b</td><td>Nipuns-iMac-8.local</td><td style=\"text-align: right;\">                         1</td><td style=\"text-align: right;\">52.487 </td><td>127.0.0.1</td><td style=\"text-align: right;\">99594</td><td>ok      </td><td style=\"text-align: right;\">             3.83576</td><td style=\"text-align: right;\">           3.83576</td><td style=\"text-align: right;\">       3.83576</td><td style=\"text-align: right;\"> 1677559143</td><td style=\"text-align: right;\">                        0</td><td>                 </td><td style=\"text-align: right;\">                   1</td><td>c8d42_00023</td><td style=\"text-align: right;\">   0.00891805</td></tr>\n",
       "<tr><td>train_mlp_c8d42_00024</td><td>2023-02-28_10-09-09</td><td>True  </td><td>                </td><td>684a45c7048544b384d756bd20117055</td><td>Nipuns-iMac-8.local</td><td style=\"text-align: right;\">                         1</td><td style=\"text-align: right;\">76.1853</td><td>127.0.0.1</td><td style=\"text-align: right;\">99588</td><td>ok      </td><td style=\"text-align: right;\">            10.1193 </td><td style=\"text-align: right;\">          10.1193 </td><td style=\"text-align: right;\">      10.1193 </td><td style=\"text-align: right;\"> 1677559149</td><td style=\"text-align: right;\">                        0</td><td>                 </td><td style=\"text-align: right;\">                   1</td><td>c8d42_00024</td><td style=\"text-align: right;\">   0.00341606</td></tr>\n",
       "<tr><td>train_mlp_c8d42_00025</td><td>2023-02-28_10-09-04</td><td>True  </td><td>                </td><td>98349fab3a1b4027bc14d3ce239251fd</td><td>Nipuns-iMac-8.local</td><td style=\"text-align: right;\">                         1</td><td style=\"text-align: right;\">76.2173</td><td>127.0.0.1</td><td style=\"text-align: right;\">99615</td><td>ok      </td><td style=\"text-align: right;\">             4.14031</td><td style=\"text-align: right;\">           4.14031</td><td style=\"text-align: right;\">       4.14031</td><td style=\"text-align: right;\"> 1677559144</td><td style=\"text-align: right;\">                        0</td><td>                 </td><td style=\"text-align: right;\">                   1</td><td>c8d42_00025</td><td style=\"text-align: right;\">   0.00547719</td></tr>\n",
       "<tr><td>train_mlp_c8d42_00026</td><td>2023-02-28_10-09-06</td><td>True  </td><td>                </td><td>a15c3445ce1e4ffeba2eabf9098820f2</td><td>Nipuns-iMac-8.local</td><td style=\"text-align: right;\">                         1</td><td style=\"text-align: right;\">68.3927</td><td>127.0.0.1</td><td style=\"text-align: right;\">99604</td><td>ok      </td><td style=\"text-align: right;\">             6.18441</td><td style=\"text-align: right;\">           6.18441</td><td style=\"text-align: right;\">       6.18441</td><td style=\"text-align: right;\"> 1677559146</td><td style=\"text-align: right;\">                        0</td><td>                 </td><td style=\"text-align: right;\">                   1</td><td>c8d42_00026</td><td style=\"text-align: right;\">   0.010926  </td></tr>\n",
       "<tr><td>train_mlp_c8d42_00027</td><td>2023-02-28_10-09-03</td><td>True  </td><td>                </td><td>9de7e974434443f6a12e1dbc614a8582</td><td>Nipuns-iMac-8.local</td><td style=\"text-align: right;\">                         1</td><td style=\"text-align: right;\">76.218 </td><td>127.0.0.1</td><td style=\"text-align: right;\">99612</td><td>ok      </td><td style=\"text-align: right;\">             3.01754</td><td style=\"text-align: right;\">           3.01754</td><td style=\"text-align: right;\">       3.01754</td><td style=\"text-align: right;\"> 1677559143</td><td style=\"text-align: right;\">                        0</td><td>                 </td><td style=\"text-align: right;\">                   1</td><td>c8d42_00027</td><td style=\"text-align: right;\">   0.00496888</td></tr>\n",
       "<tr><td>train_mlp_c8d42_00028</td><td>2023-02-28_10-09-06</td><td>True  </td><td>                </td><td>e4c8bef4a7e246c19960353c87f60541</td><td>Nipuns-iMac-8.local</td><td style=\"text-align: right;\">                         1</td><td style=\"text-align: right;\">66.4336</td><td>127.0.0.1</td><td style=\"text-align: right;\">99617</td><td>ok      </td><td style=\"text-align: right;\">             5.79445</td><td style=\"text-align: right;\">           5.79445</td><td style=\"text-align: right;\">       5.79445</td><td style=\"text-align: right;\"> 1677559146</td><td style=\"text-align: right;\">                        0</td><td>                 </td><td style=\"text-align: right;\">                   1</td><td>c8d42_00028</td><td style=\"text-align: right;\">   0.0142629 </td></tr>\n",
       "<tr><td>train_mlp_c8d42_00029</td><td>2023-02-28_10-09-03</td><td>True  </td><td>                </td><td>d7fa3bf71c4d44dd90e2988c0e59687a</td><td>Nipuns-iMac-8.local</td><td style=\"text-align: right;\">                         1</td><td style=\"text-align: right;\">76.2164</td><td>127.0.0.1</td><td style=\"text-align: right;\">99613</td><td>ok      </td><td style=\"text-align: right;\">             2.94911</td><td style=\"text-align: right;\">           2.94911</td><td style=\"text-align: right;\">       2.94911</td><td style=\"text-align: right;\"> 1677559143</td><td style=\"text-align: right;\">                        0</td><td>                 </td><td style=\"text-align: right;\">                   1</td><td>c8d42_00029</td><td style=\"text-align: right;\">   0.00938773</td></tr>\n",
       "<tr><td>train_mlp_c8d42_00030</td><td>2023-02-28_10-09-05</td><td>True  </td><td>                </td><td>e9475ee5dd1f4d1289ef144d1a7879ad</td><td>Nipuns-iMac-8.local</td><td style=\"text-align: right;\">                         1</td><td style=\"text-align: right;\">75.2123</td><td>127.0.0.1</td><td style=\"text-align: right;\">99596</td><td>ok      </td><td style=\"text-align: right;\">             4.99429</td><td style=\"text-align: right;\">           4.99429</td><td style=\"text-align: right;\">       4.99429</td><td style=\"text-align: right;\"> 1677559145</td><td style=\"text-align: right;\">                        0</td><td>                 </td><td style=\"text-align: right;\">                   1</td><td>c8d42_00030</td><td style=\"text-align: right;\">   0.00670218</td></tr>\n",
       "<tr><td>train_mlp_c8d42_00031</td><td>2023-02-28_10-09-06</td><td>True  </td><td>                </td><td>f91e68c1ff9a486f9f74c54403e236f4</td><td>Nipuns-iMac-8.local</td><td style=\"text-align: right;\">                         1</td><td style=\"text-align: right;\">51.925 </td><td>127.0.0.1</td><td style=\"text-align: right;\">99618</td><td>ok      </td><td style=\"text-align: right;\">             4.96918</td><td style=\"text-align: right;\">           4.96918</td><td style=\"text-align: right;\">       4.96918</td><td style=\"text-align: right;\"> 1677559146</td><td style=\"text-align: right;\">                        0</td><td>                 </td><td style=\"text-align: right;\">                   1</td><td>c8d42_00031</td><td style=\"text-align: right;\">   0.00973487</td></tr>\n",
       "<tr><td>train_mlp_c8d42_00032</td><td>2023-02-28_10-09-04</td><td>True  </td><td>                </td><td>97bdec82d1ec44069bc84210c4a6a18e</td><td>Nipuns-iMac-8.local</td><td style=\"text-align: right;\">                         1</td><td style=\"text-align: right;\">76.4117</td><td>127.0.0.1</td><td style=\"text-align: right;\">99597</td><td>ok      </td><td style=\"text-align: right;\">             3.24968</td><td style=\"text-align: right;\">           3.24968</td><td style=\"text-align: right;\">       3.24968</td><td style=\"text-align: right;\"> 1677559144</td><td style=\"text-align: right;\">                        0</td><td>                 </td><td style=\"text-align: right;\">                   1</td><td>c8d42_00032</td><td style=\"text-align: right;\">   0.00920701</td></tr>\n",
       "<tr><td>train_mlp_c8d42_00033</td><td>2023-02-28_10-09-08</td><td>True  </td><td>                </td><td>6e08564fbc6d4f5c9bea59429a196a5e</td><td>Nipuns-iMac-8.local</td><td style=\"text-align: right;\">                         1</td><td style=\"text-align: right;\">70.9285</td><td>127.0.0.1</td><td style=\"text-align: right;\">99614</td><td>ok      </td><td style=\"text-align: right;\">             5.80603</td><td style=\"text-align: right;\">           5.80603</td><td style=\"text-align: right;\">       5.80603</td><td style=\"text-align: right;\"> 1677559148</td><td style=\"text-align: right;\">                        0</td><td>                 </td><td style=\"text-align: right;\">                   1</td><td>c8d42_00033</td><td style=\"text-align: right;\">   0.00922298</td></tr>\n",
       "<tr><td>train_mlp_c8d42_00034</td><td>2023-02-28_10-09-08</td><td>True  </td><td>                </td><td>9de7e974434443f6a12e1dbc614a8582</td><td>Nipuns-iMac-8.local</td><td style=\"text-align: right;\">                         1</td><td style=\"text-align: right;\">51.9675</td><td>127.0.0.1</td><td style=\"text-align: right;\">99612</td><td>ok      </td><td style=\"text-align: right;\">             5.20552</td><td style=\"text-align: right;\">           5.20552</td><td style=\"text-align: right;\">       5.20552</td><td style=\"text-align: right;\"> 1677559148</td><td style=\"text-align: right;\">                        0</td><td>                 </td><td style=\"text-align: right;\">                   1</td><td>c8d42_00034</td><td style=\"text-align: right;\">   0.00496888</td></tr>\n",
       "<tr><td>train_mlp_c8d42_00035</td><td>2023-02-28_10-09-07</td><td>True  </td><td>                </td><td>3db458192e6944118049623bfe3128a4</td><td>Nipuns-iMac-8.local</td><td style=\"text-align: right;\">                         1</td><td style=\"text-align: right;\">76.1776</td><td>127.0.0.1</td><td style=\"text-align: right;\">99598</td><td>ok      </td><td style=\"text-align: right;\">             3.86612</td><td style=\"text-align: right;\">           3.86612</td><td style=\"text-align: right;\">       3.86612</td><td style=\"text-align: right;\"> 1677559147</td><td style=\"text-align: right;\">                        0</td><td>                 </td><td style=\"text-align: right;\">                   1</td><td>c8d42_00035</td><td style=\"text-align: right;\">   0.00544381</td></tr>\n",
       "<tr><td>train_mlp_c8d42_00036</td><td>2023-02-28_10-09-07</td><td>True  </td><td>                </td><td>23a98dd3be3d4ad2abbc0a44970bd41b</td><td>Nipuns-iMac-8.local</td><td style=\"text-align: right;\">                         1</td><td style=\"text-align: right;\">76.2167</td><td>127.0.0.1</td><td style=\"text-align: right;\">99594</td><td>ok      </td><td style=\"text-align: right;\">             3.56161</td><td style=\"text-align: right;\">           3.56161</td><td style=\"text-align: right;\">       3.56161</td><td style=\"text-align: right;\"> 1677559147</td><td style=\"text-align: right;\">                        0</td><td>                 </td><td style=\"text-align: right;\">                   1</td><td>c8d42_00036</td><td style=\"text-align: right;\">   0.00891805</td></tr>\n",
       "<tr><td>train_mlp_c8d42_00037</td><td>2023-02-28_10-09-07</td><td>True  </td><td>                </td><td>d7fa3bf71c4d44dd90e2988c0e59687a</td><td>Nipuns-iMac-8.local</td><td style=\"text-align: right;\">                         1</td><td style=\"text-align: right;\">51.8721</td><td>127.0.0.1</td><td style=\"text-align: right;\">99613</td><td>ok      </td><td style=\"text-align: right;\">             4.08222</td><td style=\"text-align: right;\">           4.08222</td><td style=\"text-align: right;\">       4.08222</td><td style=\"text-align: right;\"> 1677559147</td><td style=\"text-align: right;\">                        0</td><td>                 </td><td style=\"text-align: right;\">                   1</td><td>c8d42_00037</td><td style=\"text-align: right;\">   0.00938773</td></tr>\n",
       "<tr><td>train_mlp_c8d42_00038</td><td>2023-02-28_10-09-10</td><td>True  </td><td>                </td><td>98349fab3a1b4027bc14d3ce239251fd</td><td>Nipuns-iMac-8.local</td><td style=\"text-align: right;\">                         1</td><td style=\"text-align: right;\">76.2166</td><td>127.0.0.1</td><td style=\"text-align: right;\">99615</td><td>ok      </td><td style=\"text-align: right;\">             6.54892</td><td style=\"text-align: right;\">           6.54892</td><td style=\"text-align: right;\">       6.54892</td><td style=\"text-align: right;\"> 1677559150</td><td style=\"text-align: right;\">                        0</td><td>                 </td><td style=\"text-align: right;\">                   1</td><td>c8d42_00038</td><td style=\"text-align: right;\">   0.00547719</td></tr>\n",
       "<tr><td>train_mlp_c8d42_00039</td><td>2023-02-28_10-09-07</td><td>True  </td><td>                </td><td>6356d7d5564f49ac84f1f5221bccaa3e</td><td>Nipuns-iMac-8.local</td><td style=\"text-align: right;\">                         1</td><td style=\"text-align: right;\">71.0616</td><td>127.0.0.1</td><td style=\"text-align: right;\">99616</td><td>ok      </td><td style=\"text-align: right;\">             3.14067</td><td style=\"text-align: right;\">           3.14067</td><td style=\"text-align: right;\">       3.14067</td><td style=\"text-align: right;\"> 1677559147</td><td style=\"text-align: right;\">                        0</td><td>                 </td><td style=\"text-align: right;\">                   1</td><td>c8d42_00039</td><td style=\"text-align: right;\">   0.0112782 </td></tr>\n",
       "<tr><td>train_mlp_c8d42_00040</td><td>2023-02-28_10-09-07</td><td>True  </td><td>                </td><td>97bdec82d1ec44069bc84210c4a6a18e</td><td>Nipuns-iMac-8.local</td><td style=\"text-align: right;\">                         1</td><td style=\"text-align: right;\">78.2332</td><td>127.0.0.1</td><td style=\"text-align: right;\">99597</td><td>ok      </td><td style=\"text-align: right;\">             3.1038 </td><td style=\"text-align: right;\">           3.1038 </td><td style=\"text-align: right;\">       3.1038 </td><td style=\"text-align: right;\"> 1677559147</td><td style=\"text-align: right;\">                        0</td><td>                 </td><td style=\"text-align: right;\">                   1</td><td>c8d42_00040</td><td style=\"text-align: right;\">   0.00920701</td></tr>\n",
       "<tr><td>train_mlp_c8d42_00041</td><td>2023-02-28_10-09-09</td><td>True  </td><td>                </td><td>6b794ba131304c9e841b2d671a1a4693</td><td>Nipuns-iMac-8.local</td><td style=\"text-align: right;\">                         1</td><td style=\"text-align: right;\">76.2681</td><td>127.0.0.1</td><td style=\"text-align: right;\">99601</td><td>ok      </td><td style=\"text-align: right;\">             4.69843</td><td style=\"text-align: right;\">           4.69843</td><td style=\"text-align: right;\">       4.69843</td><td style=\"text-align: right;\"> 1677559149</td><td style=\"text-align: right;\">                        0</td><td>                 </td><td style=\"text-align: right;\">                   1</td><td>c8d42_00041</td><td style=\"text-align: right;\">   0.00939798</td></tr>\n",
       "<tr><td>train_mlp_c8d42_00042</td><td>2023-02-28_10-09-09</td><td>True  </td><td>                </td><td>e9475ee5dd1f4d1289ef144d1a7879ad</td><td>Nipuns-iMac-8.local</td><td style=\"text-align: right;\">                         1</td><td style=\"text-align: right;\">64.8587</td><td>127.0.0.1</td><td style=\"text-align: right;\">99596</td><td>ok      </td><td style=\"text-align: right;\">             3.2481 </td><td style=\"text-align: right;\">           3.2481 </td><td style=\"text-align: right;\">       3.2481 </td><td style=\"text-align: right;\"> 1677559149</td><td style=\"text-align: right;\">                        0</td><td>                 </td><td style=\"text-align: right;\">                   1</td><td>c8d42_00042</td><td style=\"text-align: right;\">   0.00670218</td></tr>\n",
       "<tr><td>train_mlp_c8d42_00043</td><td>2023-02-28_10-09-09</td><td>True  </td><td>                </td><td>f91e68c1ff9a486f9f74c54403e236f4</td><td>Nipuns-iMac-8.local</td><td style=\"text-align: right;\">                         1</td><td style=\"text-align: right;\">76.2166</td><td>127.0.0.1</td><td style=\"text-align: right;\">99618</td><td>ok      </td><td style=\"text-align: right;\">             2.99345</td><td style=\"text-align: right;\">           2.99345</td><td style=\"text-align: right;\">       2.99345</td><td style=\"text-align: right;\"> 1677559149</td><td style=\"text-align: right;\">                        0</td><td>                 </td><td style=\"text-align: right;\">                   1</td><td>c8d42_00043</td><td style=\"text-align: right;\">   0.00973487</td></tr>\n",
       "<tr><td>train_mlp_c8d42_00044</td><td>2023-02-28_10-09-09</td><td>True  </td><td>                </td><td>38d637c01fcb43d3be8db783cb837ea2</td><td>Nipuns-iMac-8.local</td><td style=\"text-align: right;\">                         1</td><td style=\"text-align: right;\">76.2244</td><td>127.0.0.1</td><td style=\"text-align: right;\">99602</td><td>ok      </td><td style=\"text-align: right;\">             3.30911</td><td style=\"text-align: right;\">           3.30911</td><td style=\"text-align: right;\">       3.30911</td><td style=\"text-align: right;\"> 1677559149</td><td style=\"text-align: right;\">                        0</td><td>                 </td><td style=\"text-align: right;\">                   1</td><td>c8d42_00044</td><td style=\"text-align: right;\">   0.012325  </td></tr>\n",
       "<tr><td>train_mlp_c8d42_00045</td><td>2023-02-28_10-09-10</td><td>True  </td><td>                </td><td>a15c3445ce1e4ffeba2eabf9098820f2</td><td>Nipuns-iMac-8.local</td><td style=\"text-align: right;\">                         1</td><td style=\"text-align: right;\">51.9337</td><td>127.0.0.1</td><td style=\"text-align: right;\">99604</td><td>ok      </td><td style=\"text-align: right;\">             3.84642</td><td style=\"text-align: right;\">           3.84642</td><td style=\"text-align: right;\">       3.84642</td><td style=\"text-align: right;\"> 1677559150</td><td style=\"text-align: right;\">                        0</td><td>                 </td><td style=\"text-align: right;\">                   1</td><td>c8d42_00045</td><td style=\"text-align: right;\">   0.010926  </td></tr>\n",
       "<tr><td>train_mlp_c8d42_00046</td><td>2023-02-28_10-09-10</td><td>True  </td><td>                </td><td>e4c8bef4a7e246c19960353c87f60541</td><td>Nipuns-iMac-8.local</td><td style=\"text-align: right;\">                         1</td><td style=\"text-align: right;\">76.2167</td><td>127.0.0.1</td><td style=\"text-align: right;\">99617</td><td>ok      </td><td style=\"text-align: right;\">             3.67529</td><td style=\"text-align: right;\">           3.67529</td><td style=\"text-align: right;\">       3.67529</td><td style=\"text-align: right;\"> 1677559150</td><td style=\"text-align: right;\">                        0</td><td>                 </td><td style=\"text-align: right;\">                   1</td><td>c8d42_00046</td><td style=\"text-align: right;\">   0.0142629 </td></tr>\n",
       "<tr><td>train_mlp_c8d42_00047</td><td>2023-02-28_10-09-09</td><td>True  </td><td>                </td><td>23a98dd3be3d4ad2abbc0a44970bd41b</td><td>Nipuns-iMac-8.local</td><td style=\"text-align: right;\">                         1</td><td style=\"text-align: right;\">73.6947</td><td>127.0.0.1</td><td style=\"text-align: right;\">99594</td><td>ok      </td><td style=\"text-align: right;\">             2.20929</td><td style=\"text-align: right;\">           2.20929</td><td style=\"text-align: right;\">       2.20929</td><td style=\"text-align: right;\"> 1677559149</td><td style=\"text-align: right;\">                        0</td><td>                 </td><td style=\"text-align: right;\">                   1</td><td>c8d42_00047</td><td style=\"text-align: right;\">   0.00891805</td></tr>\n",
       "<tr><td>train_mlp_c8d42_00048</td><td>2023-02-28_10-09-09</td><td>True  </td><td>                </td><td>6356d7d5564f49ac84f1f5221bccaa3e</td><td>Nipuns-iMac-8.local</td><td style=\"text-align: right;\">                         1</td><td style=\"text-align: right;\">76.2164</td><td>127.0.0.1</td><td style=\"text-align: right;\">99616</td><td>ok      </td><td style=\"text-align: right;\">             2.29378</td><td style=\"text-align: right;\">           2.29378</td><td style=\"text-align: right;\">       2.29378</td><td style=\"text-align: right;\"> 1677559149</td><td style=\"text-align: right;\">                        0</td><td>                 </td><td style=\"text-align: right;\">                   1</td><td>c8d42_00048</td><td style=\"text-align: right;\">   0.0112782 </td></tr>\n",
       "<tr><td>train_mlp_c8d42_00049</td><td>2023-02-28_10-09-09</td><td>True  </td><td>                </td><td>3db458192e6944118049623bfe3128a4</td><td>Nipuns-iMac-8.local</td><td style=\"text-align: right;\">                         1</td><td style=\"text-align: right;\">60.3637</td><td>127.0.0.1</td><td style=\"text-align: right;\">99598</td><td>ok      </td><td style=\"text-align: right;\">             2.2852 </td><td style=\"text-align: right;\">           2.2852 </td><td style=\"text-align: right;\">       2.2852 </td><td style=\"text-align: right;\"> 1677559149</td><td style=\"text-align: right;\">                        0</td><td>                 </td><td style=\"text-align: right;\">                   1</td><td>c8d42_00049</td><td style=\"text-align: right;\">   0.00544381</td></tr>\n",
       "</tbody>\n",
       "</table>\n",
       "</div>\n",
       "<style>\n",
       ".trialProgress {\n",
       "  display: flex;\n",
       "  flex-direction: column;\n",
       "  color: var(--jp-ui-font-color1);\n",
       "}\n",
       ".trialProgress h3 {\n",
       "  font-weight: bold;\n",
       "}\n",
       ".trialProgress td {\n",
       "  white-space: nowrap;\n",
       "}\n",
       "</style>\n"
      ],
      "text/plain": [
       "<IPython.core.display.HTML object>"
      ]
     },
     "metadata": {},
     "output_type": "display_data"
    },
    {
     "name": "stderr",
     "output_type": "stream",
     "text": [
      "2023-02-28 10:09:11,027\tINFO tune.py:762 -- Total run time: 26.09 seconds (25.84 seconds for the tuning loop).\n"
     ]
    }
   ],
   "source": [
    "ray.shutdown()\n",
    "\n",
    "ray.init()\n",
    "scheduler = ASHAScheduler(\n",
    "    metric=\"loss\",\n",
    "    mode=\"min\",\n",
    "    max_t=100,\n",
    "    grace_period=1,\n",
    "    reduction_factor=2)\n",
    "\n",
    "reporter = CLIReporter(\n",
    "    parameter_columns=[\"l1\", \"l2\", \"l3\", \"lr\", \"l2_reg\"],\n",
    "    metric_columns=[\"loss\", \"training_iteration\"])\n",
    "\n",
    "analysis = tune.run(\n",
    "    train_mlp,\n",
    "    resources_per_trial={\"cpu\": 1},\n",
    "    config={\n",
    "        \"l1\": tune.choice([2, 4, 16, 32, 64, 128, 256]),\n",
    "        \"l2\": tune.choice([2, 4, 16, 32, 64, 128, 256]),\n",
    "        \"l3\": tune.choice([2, 4, 16, 32, 64, 128, 256]),\n",
    "        \"l2_reg\": tune.loguniform(1e-4, 1.0),\n",
    "        \"lr\": tune.loguniform(1e-4, 1.0),\n",
    "    },\n",
    "    num_samples=50,\n",
    "    scheduler=scheduler,\n",
    "    progress_reporter=reporter)\n",
    "\n"
   ]
  },
  {
   "cell_type": "code",
   "execution_count": 77,
   "id": "535a30ba",
   "metadata": {},
   "outputs": [
    {
     "data": {
      "text/html": [
       "<div>\n",
       "<style scoped>\n",
       "    .dataframe tbody tr th:only-of-type {\n",
       "        vertical-align: middle;\n",
       "    }\n",
       "\n",
       "    .dataframe tbody tr th {\n",
       "        vertical-align: top;\n",
       "    }\n",
       "\n",
       "    .dataframe thead th {\n",
       "        text-align: right;\n",
       "    }\n",
       "</style>\n",
       "<table border=\"1\" class=\"dataframe\">\n",
       "  <thead>\n",
       "    <tr style=\"text-align: right;\">\n",
       "      <th></th>\n",
       "      <th>loss</th>\n",
       "      <th>config/l1</th>\n",
       "      <th>config/l2</th>\n",
       "      <th>config/l3</th>\n",
       "      <th>config/lr</th>\n",
       "      <th>config/l2_reg</th>\n",
       "    </tr>\n",
       "    <tr>\n",
       "      <th>trial_id</th>\n",
       "      <th></th>\n",
       "      <th></th>\n",
       "      <th></th>\n",
       "      <th></th>\n",
       "      <th></th>\n",
       "      <th></th>\n",
       "    </tr>\n",
       "  </thead>\n",
       "  <tbody>\n",
       "    <tr>\n",
       "      <th>c8d42_00019</th>\n",
       "      <td>51.555930</td>\n",
       "      <td>256</td>\n",
       "      <td>256</td>\n",
       "      <td>128</td>\n",
       "      <td>0.000125</td>\n",
       "      <td>0.027615</td>\n",
       "    </tr>\n",
       "    <tr>\n",
       "      <th>c8d42_00015</th>\n",
       "      <td>51.580817</td>\n",
       "      <td>4</td>\n",
       "      <td>64</td>\n",
       "      <td>256</td>\n",
       "      <td>0.003980</td>\n",
       "      <td>0.015450</td>\n",
       "    </tr>\n",
       "    <tr>\n",
       "      <th>c8d42_00003</th>\n",
       "      <td>51.654479</td>\n",
       "      <td>2</td>\n",
       "      <td>64</td>\n",
       "      <td>4</td>\n",
       "      <td>0.000991</td>\n",
       "      <td>0.015054</td>\n",
       "    </tr>\n",
       "    <tr>\n",
       "      <th>c8d42_00037</th>\n",
       "      <td>51.872128</td>\n",
       "      <td>128</td>\n",
       "      <td>32</td>\n",
       "      <td>32</td>\n",
       "      <td>0.000114</td>\n",
       "      <td>0.005181</td>\n",
       "    </tr>\n",
       "    <tr>\n",
       "      <th>c8d42_00031</th>\n",
       "      <td>51.925027</td>\n",
       "      <td>128</td>\n",
       "      <td>64</td>\n",
       "      <td>32</td>\n",
       "      <td>0.000103</td>\n",
       "      <td>0.001919</td>\n",
       "    </tr>\n",
       "    <tr>\n",
       "      <th>c8d42_00045</th>\n",
       "      <td>51.933658</td>\n",
       "      <td>64</td>\n",
       "      <td>256</td>\n",
       "      <td>16</td>\n",
       "      <td>0.000139</td>\n",
       "      <td>0.000221</td>\n",
       "    </tr>\n",
       "    <tr>\n",
       "      <th>c8d42_00034</th>\n",
       "      <td>51.967532</td>\n",
       "      <td>2</td>\n",
       "      <td>128</td>\n",
       "      <td>128</td>\n",
       "      <td>0.000371</td>\n",
       "      <td>0.000860</td>\n",
       "    </tr>\n",
       "    <tr>\n",
       "      <th>c8d42_00011</th>\n",
       "      <td>52.207469</td>\n",
       "      <td>16</td>\n",
       "      <td>256</td>\n",
       "      <td>128</td>\n",
       "      <td>0.000134</td>\n",
       "      <td>0.001002</td>\n",
       "    </tr>\n",
       "    <tr>\n",
       "      <th>c8d42_00018</th>\n",
       "      <td>52.479806</td>\n",
       "      <td>2</td>\n",
       "      <td>16</td>\n",
       "      <td>4</td>\n",
       "      <td>0.002317</td>\n",
       "      <td>0.000166</td>\n",
       "    </tr>\n",
       "    <tr>\n",
       "      <th>c8d42_00023</th>\n",
       "      <td>52.486995</td>\n",
       "      <td>64</td>\n",
       "      <td>64</td>\n",
       "      <td>16</td>\n",
       "      <td>0.000214</td>\n",
       "      <td>0.025084</td>\n",
       "    </tr>\n",
       "    <tr>\n",
       "      <th>c8d42_00020</th>\n",
       "      <td>54.840118</td>\n",
       "      <td>2</td>\n",
       "      <td>128</td>\n",
       "      <td>128</td>\n",
       "      <td>0.001178</td>\n",
       "      <td>0.001264</td>\n",
       "    </tr>\n",
       "    <tr>\n",
       "      <th>c8d42_00049</th>\n",
       "      <td>60.363672</td>\n",
       "      <td>4</td>\n",
       "      <td>128</td>\n",
       "      <td>16</td>\n",
       "      <td>0.003238</td>\n",
       "      <td>0.000639</td>\n",
       "    </tr>\n",
       "    <tr>\n",
       "      <th>c8d42_00022</th>\n",
       "      <td>62.772853</td>\n",
       "      <td>256</td>\n",
       "      <td>4</td>\n",
       "      <td>64</td>\n",
       "      <td>0.000419</td>\n",
       "      <td>0.000484</td>\n",
       "    </tr>\n",
       "    <tr>\n",
       "      <th>c8d42_00042</th>\n",
       "      <td>64.858708</td>\n",
       "      <td>128</td>\n",
       "      <td>32</td>\n",
       "      <td>2</td>\n",
       "      <td>0.001164</td>\n",
       "      <td>0.000313</td>\n",
       "    </tr>\n",
       "    <tr>\n",
       "      <th>c8d42_00004</th>\n",
       "      <td>65.301650</td>\n",
       "      <td>4</td>\n",
       "      <td>2</td>\n",
       "      <td>32</td>\n",
       "      <td>0.071916</td>\n",
       "      <td>0.000168</td>\n",
       "    </tr>\n",
       "    <tr>\n",
       "      <th>c8d42_00028</th>\n",
       "      <td>66.433568</td>\n",
       "      <td>128</td>\n",
       "      <td>64</td>\n",
       "      <td>128</td>\n",
       "      <td>0.013376</td>\n",
       "      <td>0.002368</td>\n",
       "    </tr>\n",
       "    <tr>\n",
       "      <th>c8d42_00009</th>\n",
       "      <td>68.216911</td>\n",
       "      <td>32</td>\n",
       "      <td>256</td>\n",
       "      <td>2</td>\n",
       "      <td>0.000931</td>\n",
       "      <td>0.001888</td>\n",
       "    </tr>\n",
       "    <tr>\n",
       "      <th>c8d42_00026</th>\n",
       "      <td>68.392660</td>\n",
       "      <td>2</td>\n",
       "      <td>256</td>\n",
       "      <td>64</td>\n",
       "      <td>0.025460</td>\n",
       "      <td>0.000803</td>\n",
       "    </tr>\n",
       "    <tr>\n",
       "      <th>c8d42_00033</th>\n",
       "      <td>70.928476</td>\n",
       "      <td>2</td>\n",
       "      <td>256</td>\n",
       "      <td>64</td>\n",
       "      <td>0.016914</td>\n",
       "      <td>0.000214</td>\n",
       "    </tr>\n",
       "    <tr>\n",
       "      <th>c8d42_00039</th>\n",
       "      <td>71.061583</td>\n",
       "      <td>16</td>\n",
       "      <td>4</td>\n",
       "      <td>64</td>\n",
       "      <td>0.007347</td>\n",
       "      <td>0.000135</td>\n",
       "    </tr>\n",
       "    <tr>\n",
       "      <th>c8d42_00047</th>\n",
       "      <td>73.694689</td>\n",
       "      <td>4</td>\n",
       "      <td>2</td>\n",
       "      <td>32</td>\n",
       "      <td>0.000104</td>\n",
       "      <td>0.001308</td>\n",
       "    </tr>\n",
       "    <tr>\n",
       "      <th>c8d42_00030</th>\n",
       "      <td>75.212274</td>\n",
       "      <td>16</td>\n",
       "      <td>256</td>\n",
       "      <td>2</td>\n",
       "      <td>0.004354</td>\n",
       "      <td>0.000746</td>\n",
       "    </tr>\n",
       "    <tr>\n",
       "      <th>c8d42_00012</th>\n",
       "      <td>76.112538</td>\n",
       "      <td>128</td>\n",
       "      <td>128</td>\n",
       "      <td>4</td>\n",
       "      <td>0.226784</td>\n",
       "      <td>0.140003</td>\n",
       "    </tr>\n",
       "    <tr>\n",
       "      <th>c8d42_00005</th>\n",
       "      <td>76.174661</td>\n",
       "      <td>4</td>\n",
       "      <td>4</td>\n",
       "      <td>256</td>\n",
       "      <td>0.086190</td>\n",
       "      <td>0.563438</td>\n",
       "    </tr>\n",
       "    <tr>\n",
       "      <th>c8d42_00035</th>\n",
       "      <td>76.177571</td>\n",
       "      <td>64</td>\n",
       "      <td>4</td>\n",
       "      <td>128</td>\n",
       "      <td>0.166371</td>\n",
       "      <td>0.330122</td>\n",
       "    </tr>\n",
       "    <tr>\n",
       "      <th>c8d42_00024</th>\n",
       "      <td>76.185294</td>\n",
       "      <td>32</td>\n",
       "      <td>256</td>\n",
       "      <td>256</td>\n",
       "      <td>0.159865</td>\n",
       "      <td>0.671139</td>\n",
       "    </tr>\n",
       "    <tr>\n",
       "      <th>c8d42_00008</th>\n",
       "      <td>76.193428</td>\n",
       "      <td>256</td>\n",
       "      <td>32</td>\n",
       "      <td>16</td>\n",
       "      <td>0.113514</td>\n",
       "      <td>0.062898</td>\n",
       "    </tr>\n",
       "    <tr>\n",
       "      <th>c8d42_00014</th>\n",
       "      <td>76.200245</td>\n",
       "      <td>32</td>\n",
       "      <td>128</td>\n",
       "      <td>128</td>\n",
       "      <td>0.561836</td>\n",
       "      <td>0.000226</td>\n",
       "    </tr>\n",
       "    <tr>\n",
       "      <th>c8d42_00013</th>\n",
       "      <td>76.216345</td>\n",
       "      <td>64</td>\n",
       "      <td>16</td>\n",
       "      <td>64</td>\n",
       "      <td>0.000173</td>\n",
       "      <td>0.194086</td>\n",
       "    </tr>\n",
       "    <tr>\n",
       "      <th>c8d42_00048</th>\n",
       "      <td>76.216390</td>\n",
       "      <td>64</td>\n",
       "      <td>16</td>\n",
       "      <td>64</td>\n",
       "      <td>0.301651</td>\n",
       "      <td>0.000141</td>\n",
       "    </tr>\n",
       "    <tr>\n",
       "      <th>c8d42_00029</th>\n",
       "      <td>76.216436</td>\n",
       "      <td>16</td>\n",
       "      <td>2</td>\n",
       "      <td>2</td>\n",
       "      <td>0.085926</td>\n",
       "      <td>0.000206</td>\n",
       "    </tr>\n",
       "    <tr>\n",
       "      <th>c8d42_00038</th>\n",
       "      <td>76.216618</td>\n",
       "      <td>16</td>\n",
       "      <td>256</td>\n",
       "      <td>256</td>\n",
       "      <td>0.005644</td>\n",
       "      <td>0.210313</td>\n",
       "    </tr>\n",
       "    <tr>\n",
       "      <th>c8d42_00043</th>\n",
       "      <td>76.216619</td>\n",
       "      <td>64</td>\n",
       "      <td>16</td>\n",
       "      <td>64</td>\n",
       "      <td>0.000284</td>\n",
       "      <td>0.433444</td>\n",
       "    </tr>\n",
       "    <tr>\n",
       "      <th>c8d42_00046</th>\n",
       "      <td>76.216670</td>\n",
       "      <td>256</td>\n",
       "      <td>64</td>\n",
       "      <td>2</td>\n",
       "      <td>0.000617</td>\n",
       "      <td>0.181541</td>\n",
       "    </tr>\n",
       "    <tr>\n",
       "      <th>c8d42_00036</th>\n",
       "      <td>76.216674</td>\n",
       "      <td>2</td>\n",
       "      <td>64</td>\n",
       "      <td>64</td>\n",
       "      <td>0.680740</td>\n",
       "      <td>0.005030</td>\n",
       "    </tr>\n",
       "    <tr>\n",
       "      <th>c8d42_00025</th>\n",
       "      <td>76.217288</td>\n",
       "      <td>16</td>\n",
       "      <td>128</td>\n",
       "      <td>16</td>\n",
       "      <td>0.002700</td>\n",
       "      <td>0.051269</td>\n",
       "    </tr>\n",
       "    <tr>\n",
       "      <th>c8d42_00027</th>\n",
       "      <td>76.218050</td>\n",
       "      <td>2</td>\n",
       "      <td>4</td>\n",
       "      <td>32</td>\n",
       "      <td>0.001925</td>\n",
       "      <td>0.194493</td>\n",
       "    </tr>\n",
       "    <tr>\n",
       "      <th>c8d42_00006</th>\n",
       "      <td>76.218069</td>\n",
       "      <td>256</td>\n",
       "      <td>2</td>\n",
       "      <td>64</td>\n",
       "      <td>0.003326</td>\n",
       "      <td>0.233648</td>\n",
       "    </tr>\n",
       "    <tr>\n",
       "      <th>c8d42_00001</th>\n",
       "      <td>76.218267</td>\n",
       "      <td>2</td>\n",
       "      <td>16</td>\n",
       "      <td>256</td>\n",
       "      <td>0.122404</td>\n",
       "      <td>0.001683</td>\n",
       "    </tr>\n",
       "    <tr>\n",
       "      <th>c8d42_00010</th>\n",
       "      <td>76.219815</td>\n",
       "      <td>128</td>\n",
       "      <td>128</td>\n",
       "      <td>64</td>\n",
       "      <td>0.006478</td>\n",
       "      <td>0.178694</td>\n",
       "    </tr>\n",
       "    <tr>\n",
       "      <th>c8d42_00017</th>\n",
       "      <td>76.221708</td>\n",
       "      <td>32</td>\n",
       "      <td>32</td>\n",
       "      <td>16</td>\n",
       "      <td>0.004100</td>\n",
       "      <td>0.520138</td>\n",
       "    </tr>\n",
       "    <tr>\n",
       "      <th>c8d42_00044</th>\n",
       "      <td>76.224417</td>\n",
       "      <td>256</td>\n",
       "      <td>2</td>\n",
       "      <td>2</td>\n",
       "      <td>0.019401</td>\n",
       "      <td>0.077370</td>\n",
       "    </tr>\n",
       "    <tr>\n",
       "      <th>c8d42_00002</th>\n",
       "      <td>76.226116</td>\n",
       "      <td>16</td>\n",
       "      <td>2</td>\n",
       "      <td>64</td>\n",
       "      <td>0.000326</td>\n",
       "      <td>0.028026</td>\n",
       "    </tr>\n",
       "    <tr>\n",
       "      <th>c8d42_00000</th>\n",
       "      <td>76.227517</td>\n",
       "      <td>4</td>\n",
       "      <td>16</td>\n",
       "      <td>128</td>\n",
       "      <td>0.020000</td>\n",
       "      <td>0.307903</td>\n",
       "    </tr>\n",
       "    <tr>\n",
       "      <th>c8d42_00041</th>\n",
       "      <td>76.268058</td>\n",
       "      <td>256</td>\n",
       "      <td>32</td>\n",
       "      <td>64</td>\n",
       "      <td>0.045152</td>\n",
       "      <td>0.252533</td>\n",
       "    </tr>\n",
       "    <tr>\n",
       "      <th>c8d42_00032</th>\n",
       "      <td>76.411740</td>\n",
       "      <td>32</td>\n",
       "      <td>32</td>\n",
       "      <td>2</td>\n",
       "      <td>0.541939</td>\n",
       "      <td>0.193151</td>\n",
       "    </tr>\n",
       "    <tr>\n",
       "      <th>c8d42_00007</th>\n",
       "      <td>76.787387</td>\n",
       "      <td>256</td>\n",
       "      <td>256</td>\n",
       "      <td>2</td>\n",
       "      <td>0.616285</td>\n",
       "      <td>0.114236</td>\n",
       "    </tr>\n",
       "    <tr>\n",
       "      <th>c8d42_00040</th>\n",
       "      <td>78.233233</td>\n",
       "      <td>64</td>\n",
       "      <td>4</td>\n",
       "      <td>16</td>\n",
       "      <td>0.164726</td>\n",
       "      <td>0.000119</td>\n",
       "    </tr>\n",
       "    <tr>\n",
       "      <th>c8d42_00021</th>\n",
       "      <td>80.997064</td>\n",
       "      <td>128</td>\n",
       "      <td>16</td>\n",
       "      <td>32</td>\n",
       "      <td>0.001292</td>\n",
       "      <td>0.002832</td>\n",
       "    </tr>\n",
       "    <tr>\n",
       "      <th>c8d42_00016</th>\n",
       "      <td>85.401864</td>\n",
       "      <td>32</td>\n",
       "      <td>16</td>\n",
       "      <td>256</td>\n",
       "      <td>0.055791</td>\n",
       "      <td>0.000965</td>\n",
       "    </tr>\n",
       "  </tbody>\n",
       "</table>\n",
       "</div>"
      ],
      "text/plain": [
       "                  loss  config/l1  config/l2  config/l3  config/lr  \\\n",
       "trial_id                                                             \n",
       "c8d42_00019  51.555930        256        256        128   0.000125   \n",
       "c8d42_00015  51.580817          4         64        256   0.003980   \n",
       "c8d42_00003  51.654479          2         64          4   0.000991   \n",
       "c8d42_00037  51.872128        128         32         32   0.000114   \n",
       "c8d42_00031  51.925027        128         64         32   0.000103   \n",
       "c8d42_00045  51.933658         64        256         16   0.000139   \n",
       "c8d42_00034  51.967532          2        128        128   0.000371   \n",
       "c8d42_00011  52.207469         16        256        128   0.000134   \n",
       "c8d42_00018  52.479806          2         16          4   0.002317   \n",
       "c8d42_00023  52.486995         64         64         16   0.000214   \n",
       "c8d42_00020  54.840118          2        128        128   0.001178   \n",
       "c8d42_00049  60.363672          4        128         16   0.003238   \n",
       "c8d42_00022  62.772853        256          4         64   0.000419   \n",
       "c8d42_00042  64.858708        128         32          2   0.001164   \n",
       "c8d42_00004  65.301650          4          2         32   0.071916   \n",
       "c8d42_00028  66.433568        128         64        128   0.013376   \n",
       "c8d42_00009  68.216911         32        256          2   0.000931   \n",
       "c8d42_00026  68.392660          2        256         64   0.025460   \n",
       "c8d42_00033  70.928476          2        256         64   0.016914   \n",
       "c8d42_00039  71.061583         16          4         64   0.007347   \n",
       "c8d42_00047  73.694689          4          2         32   0.000104   \n",
       "c8d42_00030  75.212274         16        256          2   0.004354   \n",
       "c8d42_00012  76.112538        128        128          4   0.226784   \n",
       "c8d42_00005  76.174661          4          4        256   0.086190   \n",
       "c8d42_00035  76.177571         64          4        128   0.166371   \n",
       "c8d42_00024  76.185294         32        256        256   0.159865   \n",
       "c8d42_00008  76.193428        256         32         16   0.113514   \n",
       "c8d42_00014  76.200245         32        128        128   0.561836   \n",
       "c8d42_00013  76.216345         64         16         64   0.000173   \n",
       "c8d42_00048  76.216390         64         16         64   0.301651   \n",
       "c8d42_00029  76.216436         16          2          2   0.085926   \n",
       "c8d42_00038  76.216618         16        256        256   0.005644   \n",
       "c8d42_00043  76.216619         64         16         64   0.000284   \n",
       "c8d42_00046  76.216670        256         64          2   0.000617   \n",
       "c8d42_00036  76.216674          2         64         64   0.680740   \n",
       "c8d42_00025  76.217288         16        128         16   0.002700   \n",
       "c8d42_00027  76.218050          2          4         32   0.001925   \n",
       "c8d42_00006  76.218069        256          2         64   0.003326   \n",
       "c8d42_00001  76.218267          2         16        256   0.122404   \n",
       "c8d42_00010  76.219815        128        128         64   0.006478   \n",
       "c8d42_00017  76.221708         32         32         16   0.004100   \n",
       "c8d42_00044  76.224417        256          2          2   0.019401   \n",
       "c8d42_00002  76.226116         16          2         64   0.000326   \n",
       "c8d42_00000  76.227517          4         16        128   0.020000   \n",
       "c8d42_00041  76.268058        256         32         64   0.045152   \n",
       "c8d42_00032  76.411740         32         32          2   0.541939   \n",
       "c8d42_00007  76.787387        256        256          2   0.616285   \n",
       "c8d42_00040  78.233233         64          4         16   0.164726   \n",
       "c8d42_00021  80.997064        128         16         32   0.001292   \n",
       "c8d42_00016  85.401864         32         16        256   0.055791   \n",
       "\n",
       "             config/l2_reg  \n",
       "trial_id                    \n",
       "c8d42_00019       0.027615  \n",
       "c8d42_00015       0.015450  \n",
       "c8d42_00003       0.015054  \n",
       "c8d42_00037       0.005181  \n",
       "c8d42_00031       0.001919  \n",
       "c8d42_00045       0.000221  \n",
       "c8d42_00034       0.000860  \n",
       "c8d42_00011       0.001002  \n",
       "c8d42_00018       0.000166  \n",
       "c8d42_00023       0.025084  \n",
       "c8d42_00020       0.001264  \n",
       "c8d42_00049       0.000639  \n",
       "c8d42_00022       0.000484  \n",
       "c8d42_00042       0.000313  \n",
       "c8d42_00004       0.000168  \n",
       "c8d42_00028       0.002368  \n",
       "c8d42_00009       0.001888  \n",
       "c8d42_00026       0.000803  \n",
       "c8d42_00033       0.000214  \n",
       "c8d42_00039       0.000135  \n",
       "c8d42_00047       0.001308  \n",
       "c8d42_00030       0.000746  \n",
       "c8d42_00012       0.140003  \n",
       "c8d42_00005       0.563438  \n",
       "c8d42_00035       0.330122  \n",
       "c8d42_00024       0.671139  \n",
       "c8d42_00008       0.062898  \n",
       "c8d42_00014       0.000226  \n",
       "c8d42_00013       0.194086  \n",
       "c8d42_00048       0.000141  \n",
       "c8d42_00029       0.000206  \n",
       "c8d42_00038       0.210313  \n",
       "c8d42_00043       0.433444  \n",
       "c8d42_00046       0.181541  \n",
       "c8d42_00036       0.005030  \n",
       "c8d42_00025       0.051269  \n",
       "c8d42_00027       0.194493  \n",
       "c8d42_00006       0.233648  \n",
       "c8d42_00001       0.001683  \n",
       "c8d42_00010       0.178694  \n",
       "c8d42_00017       0.520138  \n",
       "c8d42_00044       0.077370  \n",
       "c8d42_00002       0.028026  \n",
       "c8d42_00000       0.307903  \n",
       "c8d42_00041       0.252533  \n",
       "c8d42_00032       0.193151  \n",
       "c8d42_00007       0.114236  \n",
       "c8d42_00040       0.000119  \n",
       "c8d42_00021       0.002832  \n",
       "c8d42_00016       0.000965  "
      ]
     },
     "execution_count": 77,
     "metadata": {},
     "output_type": "execute_result"
    }
   ],
   "source": [
    "# Print the table for all the trials\n",
    "df = analysis.results_df\n",
    "\n",
    "# Sort the table by loss\n",
    "df.sort_values(by=\"loss\", inplace=True)\n",
    "\n",
    "# Show only loss, config/l1, config/l2, config/l3, config/lr, training_iteration\n",
    "df[[\"loss\", \"config/l1\", \"config/l2\", \"config/l3\", \"config/lr\", \"config/l2_reg\"]]"
   ]
  },
  {
   "cell_type": "code",
   "execution_count": 78,
   "id": "f62a3436",
   "metadata": {},
   "outputs": [
    {
     "data": {
      "text/plain": [
       "{'l1': 256,\n",
       " 'l2': 256,\n",
       " 'l3': 128,\n",
       " 'l2_reg': 0.027614886800457164,\n",
       " 'lr': 0.00012453571993239395}"
      ]
     },
     "execution_count": 78,
     "metadata": {},
     "output_type": "execute_result"
    }
   ],
   "source": [
    "# Print the best hyperparameters\n",
    "\n",
    "analysis.get_best_config(metric=\"loss\", mode=\"min\")"
   ]
  },
  {
   "cell_type": "code",
   "execution_count": 79,
   "id": "b702e57c",
   "metadata": {},
   "outputs": [
    {
     "name": "stdout",
     "output_type": "stream",
     "text": [
      "Test RMSE: 54.06271747689579\n",
      "\n"
     ]
    }
   ],
   "source": [
    "# Perform the final test on the test set\n",
    "\n",
    "best_config = analysis.get_best_config(metric=\"loss\", mode=\"min\")\n",
    "\n",
    "# Use the best hyperparameters to train the model\n",
    "net = Net(best_config[\"l1\"], best_config[\"l2\"], best_config[\"l3\"], best_config[\"l2_reg\"])\n",
    "criterion = nn.MSELoss()\n",
    "optimizer = optim.Adam(net.parameters(), lr=best_config[\"lr\"])\n",
    "for epoch in range(1000):  # loop over the dataset multiple times and store the train, test loss\n",
    "    optimizer.zero_grad()\n",
    "    outputs = net(X_train_torch)\n",
    "    loss = criterion(outputs, y_train_scaled)\n",
    "    # Add L2 regularization\n",
    "    for param in net.parameters():\n",
    "        loss += net.l2_reg * torch.norm(param)\n",
    "\n",
    "    \n",
    "    loss.backward()\n",
    "    optimizer.step()\n",
    "\n",
    "with torch.no_grad():\n",
    "    outputs = net(X_test_torch)\n",
    "    # Inverse transform the scaled y values to get the original y values\n",
    "    y_pred = scaler.inverse_transform(outputs.numpy())\n",
    "    loss = np.sqrt(mean_squared_error(y_test, y_pred))\n",
    "    print(f\"Test RMSE: {loss}\")\n",
    "    print(\"\")\n",
    "    "
   ]
  },
  {
   "cell_type": "code",
   "execution_count": 80,
   "id": "0735146f",
   "metadata": {},
   "outputs": [
    {
     "data": {
      "text/html": [
       "<div>\n",
       "<style scoped>\n",
       "    .dataframe tbody tr th:only-of-type {\n",
       "        vertical-align: middle;\n",
       "    }\n",
       "\n",
       "    .dataframe tbody tr th {\n",
       "        vertical-align: top;\n",
       "    }\n",
       "\n",
       "    .dataframe thead th {\n",
       "        text-align: right;\n",
       "    }\n",
       "</style>\n",
       "<table border=\"1\" class=\"dataframe\">\n",
       "  <thead>\n",
       "    <tr style=\"text-align: right;\">\n",
       "      <th></th>\n",
       "      <th>y_test</th>\n",
       "      <th>y_pred</th>\n",
       "    </tr>\n",
       "  </thead>\n",
       "  <tbody>\n",
       "    <tr>\n",
       "      <th>246</th>\n",
       "      <td>78.0</td>\n",
       "      <td>107.765800</td>\n",
       "    </tr>\n",
       "    <tr>\n",
       "      <th>425</th>\n",
       "      <td>152.0</td>\n",
       "      <td>110.693916</td>\n",
       "    </tr>\n",
       "    <tr>\n",
       "      <th>293</th>\n",
       "      <td>200.0</td>\n",
       "      <td>175.535324</td>\n",
       "    </tr>\n",
       "    <tr>\n",
       "      <th>31</th>\n",
       "      <td>59.0</td>\n",
       "      <td>82.328522</td>\n",
       "    </tr>\n",
       "    <tr>\n",
       "      <th>359</th>\n",
       "      <td>311.0</td>\n",
       "      <td>176.440598</td>\n",
       "    </tr>\n",
       "    <tr>\n",
       "      <th>...</th>\n",
       "      <td>...</td>\n",
       "      <td>...</td>\n",
       "    </tr>\n",
       "    <tr>\n",
       "      <th>117</th>\n",
       "      <td>281.0</td>\n",
       "      <td>246.310699</td>\n",
       "    </tr>\n",
       "    <tr>\n",
       "      <th>139</th>\n",
       "      <td>281.0</td>\n",
       "      <td>245.451309</td>\n",
       "    </tr>\n",
       "    <tr>\n",
       "      <th>218</th>\n",
       "      <td>214.0</td>\n",
       "      <td>118.843346</td>\n",
       "    </tr>\n",
       "    <tr>\n",
       "      <th>93</th>\n",
       "      <td>96.0</td>\n",
       "      <td>77.727440</td>\n",
       "    </tr>\n",
       "    <tr>\n",
       "      <th>420</th>\n",
       "      <td>146.0</td>\n",
       "      <td>134.773529</td>\n",
       "    </tr>\n",
       "  </tbody>\n",
       "</table>\n",
       "<p>111 rows × 2 columns</p>\n",
       "</div>"
      ],
      "text/plain": [
       "     y_test      y_pred\n",
       "246    78.0  107.765800\n",
       "425   152.0  110.693916\n",
       "293   200.0  175.535324\n",
       "31     59.0   82.328522\n",
       "359   311.0  176.440598\n",
       "..      ...         ...\n",
       "117   281.0  246.310699\n",
       "139   281.0  245.451309\n",
       "218   214.0  118.843346\n",
       "93     96.0   77.727440\n",
       "420   146.0  134.773529\n",
       "\n",
       "[111 rows x 2 columns]"
      ]
     },
     "execution_count": 80,
     "metadata": {},
     "output_type": "execute_result"
    }
   ],
   "source": [
    "pd.DataFrame({\"y_test\": y_test, \"y_pred\": y_pred.reshape(-1)})"
   ]
  },
  {
   "cell_type": "code",
   "execution_count": 81,
   "id": "ba16683b",
   "metadata": {},
   "outputs": [
    {
     "data": {
      "text/html": [
       "<div>\n",
       "<style scoped>\n",
       "    .dataframe tbody tr th:only-of-type {\n",
       "        vertical-align: middle;\n",
       "    }\n",
       "\n",
       "    .dataframe tbody tr th {\n",
       "        vertical-align: top;\n",
       "    }\n",
       "\n",
       "    .dataframe thead th {\n",
       "        text-align: right;\n",
       "    }\n",
       "</style>\n",
       "<table border=\"1\" class=\"dataframe\">\n",
       "  <thead>\n",
       "    <tr style=\"text-align: right;\">\n",
       "      <th></th>\n",
       "      <th>loss</th>\n",
       "      <th>config/l1</th>\n",
       "      <th>config/l2</th>\n",
       "      <th>config/l3</th>\n",
       "      <th>config/lr</th>\n",
       "      <th>config/l2_reg</th>\n",
       "    </tr>\n",
       "    <tr>\n",
       "      <th>trial_id</th>\n",
       "      <th></th>\n",
       "      <th></th>\n",
       "      <th></th>\n",
       "      <th></th>\n",
       "      <th></th>\n",
       "      <th></th>\n",
       "    </tr>\n",
       "  </thead>\n",
       "  <tbody>\n",
       "    <tr>\n",
       "      <th>c8d42_00019</th>\n",
       "      <td>51.555930</td>\n",
       "      <td>256</td>\n",
       "      <td>256</td>\n",
       "      <td>128</td>\n",
       "      <td>0.000125</td>\n",
       "      <td>0.027615</td>\n",
       "    </tr>\n",
       "    <tr>\n",
       "      <th>c8d42_00015</th>\n",
       "      <td>51.580817</td>\n",
       "      <td>4</td>\n",
       "      <td>64</td>\n",
       "      <td>256</td>\n",
       "      <td>0.003980</td>\n",
       "      <td>0.015450</td>\n",
       "    </tr>\n",
       "    <tr>\n",
       "      <th>c8d42_00003</th>\n",
       "      <td>51.654479</td>\n",
       "      <td>2</td>\n",
       "      <td>64</td>\n",
       "      <td>4</td>\n",
       "      <td>0.000991</td>\n",
       "      <td>0.015054</td>\n",
       "    </tr>\n",
       "    <tr>\n",
       "      <th>c8d42_00037</th>\n",
       "      <td>51.872128</td>\n",
       "      <td>128</td>\n",
       "      <td>32</td>\n",
       "      <td>32</td>\n",
       "      <td>0.000114</td>\n",
       "      <td>0.005181</td>\n",
       "    </tr>\n",
       "    <tr>\n",
       "      <th>c8d42_00031</th>\n",
       "      <td>51.925027</td>\n",
       "      <td>128</td>\n",
       "      <td>64</td>\n",
       "      <td>32</td>\n",
       "      <td>0.000103</td>\n",
       "      <td>0.001919</td>\n",
       "    </tr>\n",
       "  </tbody>\n",
       "</table>\n",
       "</div>"
      ],
      "text/plain": [
       "                  loss  config/l1  config/l2  config/l3  config/lr  \\\n",
       "trial_id                                                             \n",
       "c8d42_00019  51.555930        256        256        128   0.000125   \n",
       "c8d42_00015  51.580817          4         64        256   0.003980   \n",
       "c8d42_00003  51.654479          2         64          4   0.000991   \n",
       "c8d42_00037  51.872128        128         32         32   0.000114   \n",
       "c8d42_00031  51.925027        128         64         32   0.000103   \n",
       "\n",
       "             config/l2_reg  \n",
       "trial_id                    \n",
       "c8d42_00019       0.027615  \n",
       "c8d42_00015       0.015450  \n",
       "c8d42_00003       0.015054  \n",
       "c8d42_00037       0.005181  \n",
       "c8d42_00031       0.001919  "
      ]
     },
     "execution_count": 81,
     "metadata": {},
     "output_type": "execute_result"
    }
   ],
   "source": [
    "# Thus far it seems even with hyperparameter tuning we are unable to match the performance of ensemble models. \n",
    "\n",
    "# Get the top 5 configurations\n",
    "\n",
    "df[['loss', 'config/l1', 'config/l2', 'config/l3', 'config/lr', 'config/l2_reg']].head(5)\n"
   ]
  },
  {
   "cell_type": "code",
   "execution_count": 82,
   "id": "10c9b30c",
   "metadata": {},
   "outputs": [],
   "source": [
    "config_list_of_dicts = df[['config/l1', 'config/l2', 'config/l3', 'config/lr', 'config/l2_reg']].head(5).to_dict('records')\n",
    "\n",
    "# Train an ensemble of 5 models using the top 5 configurations\n",
    "\n",
    "ensemble = []\n",
    "for config in config_list_of_dicts:\n",
    "    net = Net(config[\"config/l1\"], config[\"config/l2\"], config[\"config/l3\"], config[\"config/l2_reg\"])\n",
    "    criterion = nn.MSELoss()\n",
    "    optimizer = optim.Adam(net.parameters(), lr=config[\"config/lr\"])\n",
    "    for epoch in range(2000):  # loop over the dataset multiple times and store the train, test loss\n",
    "        optimizer.zero_grad()\n",
    "        outputs = net(X_train_torch)\n",
    "        loss = criterion(outputs, y_train_scaled)\n",
    "        # Add L2 regularization\n",
    "        for param in net.parameters():\n",
    "            loss += net.l2_reg * torch.norm(param)\n",
    "        loss.backward()\n",
    "        optimizer.step()\n",
    "    ensemble.append(net)\n"
   ]
  },
  {
   "cell_type": "code",
   "execution_count": 83,
   "id": "d5f4d6d7",
   "metadata": {},
   "outputs": [
    {
     "name": "stdout",
     "output_type": "stream",
     "text": [
      "Test loss: 83.04458927945727\n"
     ]
    }
   ],
   "source": [
    "# Get the predictions from the ensemble\n",
    "\n",
    "ensemble_preds = []\n",
    "for net in ensemble:\n",
    "    with torch.no_grad():\n",
    "        outputs = net(X_test_torch)\n",
    "        # Scale the predictions back to the original scale\n",
    "        outputs = scaler.inverse_transform(outputs.numpy())\n",
    "        ensemble_preds.append(outputs)\n",
    "    \n",
    "ensemble_preds = np.array(ensemble_preds)\n",
    "\n",
    "# Get the mean of the predictions\n",
    "\n",
    "ensemble_preds_mean = ensemble_preds.mean(axis=0)\n",
    "\n",
    "# Get the RMSE of the ensemble\n",
    "\n",
    "criterion = nn.MSELoss()\n",
    "loss = criterion(torch.tensor(ensemble_preds_mean), y_test_torch)\n",
    "print(f\"Test loss: {np.sqrt(loss.item())}\")\n"
   ]
  },
  {
   "attachments": {},
   "cell_type": "markdown",
   "id": "cbe734d8",
   "metadata": {},
   "source": [
    "## Inputs to Meta Learning model\n",
    "\n",
    "\n",
    "### Data inputs\n",
    "\n",
    "1. Input vector: X is of shape N, D where N is the number of samples and D is the number of features\n",
    "2. Output vector: y is of shape N, 1\n",
    "\n",
    "### Encoder inputs\n",
    "\n",
    "3. Context vector: Containing C vectors of concatenated (X, y) pairs from the training set. Thus, shape of context vector is (C, D + 1)\n",
    "\n",
    "### Encoder internals\n",
    "-----------------\n",
    "4. Encoding: Encoder is a neural network that takes in the context vector and outputs a vector of shape (C, E) where E is the encoding size\n",
    "\n",
    "### Encoder outputs\n",
    "---------------\n",
    "5. Encoder summary: A vector of shape (E, ) that is the mean of the encoding\n",
    "\n",
    "### Decoder inputs\n",
    "--------------\n",
    "6. Query vector: Containing Q vectors of X from test set. Thus, shape of query vector is (Q, D)\n",
    "7. It also takes the encoder summary as input of size (E, ). But, we make Q copies of the encoder summary and concatenate it with the query vector to get a vector of shape (Q, E + D)\n",
    "\n",
    "### Decoder outputs\n",
    "-----------------\n",
    "8. Decoding: Decoder is a neural network that takes in the query vector and encoder summary and outputs a vector of shape (Q, 1)\n"
   ]
  },
  {
   "cell_type": "code",
   "execution_count": 84,
   "id": "272a7f29",
   "metadata": {},
   "outputs": [],
   "source": [
    "D = X_train_torch.shape[1]\n"
   ]
  },
  {
   "cell_type": "code",
   "execution_count": 85,
   "id": "4024cd4e",
   "metadata": {},
   "outputs": [],
   "source": [
    "# Building the encoder \n",
    "# Takes as input the number of features, the number of nodes in 3 hidden layers, and the L2 regularization parameter\n",
    "\n",
    "class Encoder(nn.Module):\n",
    "    def __init__(self, n_features = D+1, l1_size=32, l2_size=32, E = 32, l2_reg=0.0):\n",
    "        super(Encoder, self).__init__()\n",
    "        self.l1 = nn.Linear(n_features, l1_size)\n",
    "        self.l2 = nn.Linear(l1_size, l2_size)\n",
    "        self.l3 = nn.Linear(l2_size, E)\n",
    "        self.l2_reg = l2_reg\n",
    "        self.relu = nn.ReLU()\n",
    "        \n",
    "    def forward(self, x):\n",
    "        x = self.relu(self.l1(x))\n",
    "        x = self.relu(self.l2(x))\n",
    "        x = self.relu(self.l3(x))\n",
    "        return x\n"
   ]
  },
  {
   "cell_type": "code",
   "execution_count": 86,
   "id": "5e9b563f",
   "metadata": {},
   "outputs": [
    {
     "data": {
      "text/plain": [
       "(tensor([108,  26,  25, 210, 151]), tensor([156, 230]))"
      ]
     },
     "execution_count": 86,
     "metadata": {},
     "output_type": "execute_result"
    }
   ],
   "source": [
    "# Create C context vectors and pass them through the encoder\n",
    "\n",
    "C = 5\n",
    "Q = 2\n",
    "encoder = Encoder(E=32)\n",
    "\n",
    "# Create the context vectors input\n",
    "C_idx = np.random.choice(X_train_torch.shape[0], C, replace=False)\n",
    "C_idx = torch.tensor(C_idx)\n",
    "\n",
    "# Get the Q query vectors\n",
    "all_idx = np.arange(X_train_torch.shape[0])\n",
    "Q_idx = np.random.choice(np.setdiff1d(all_idx, C_idx), Q, replace=False)\n",
    "Q_idx = torch.tensor(Q_idx)\n",
    "\n",
    "C_idx, Q_idx"
   ]
  },
  {
   "cell_type": "code",
   "execution_count": 87,
   "id": "aeb57b69",
   "metadata": {},
   "outputs": [
    {
     "data": {
      "text/plain": [
       "(tensor([[-0.0019, -0.0446,  0.0542, -0.0665,  0.0727,  0.0566, -0.0434,  0.0849,\n",
       "           0.0845,  0.0486],\n",
       "         [ 0.0817,  0.0507,  0.0013,  0.0356,  0.1264,  0.0911,  0.0192,  0.0343,\n",
       "           0.0845, -0.0301],\n",
       "         [ 0.0126, -0.0446,  0.0067, -0.0562, -0.0759, -0.0664, -0.0213, -0.0376,\n",
       "          -0.0181, -0.0922],\n",
       "         [ 0.0272, -0.0446,  0.0067,  0.0356,  0.0796,  0.0707,  0.0155,  0.0343,\n",
       "           0.0407,  0.0113],\n",
       "         [-0.0709,  0.0507, -0.0752, -0.0401, -0.0511, -0.0151, -0.0397, -0.0026,\n",
       "          -0.0964, -0.0342]]),\n",
       " tensor([[ 0.4966],\n",
       "         [ 0.5471],\n",
       "         [ 0.3704],\n",
       "         [-1.0812],\n",
       "         [-1.2327]]),\n",
       " tensor([192., 196., 182.,  67.,  55.]))"
      ]
     },
     "execution_count": 87,
     "metadata": {},
     "output_type": "execute_result"
    }
   ],
   "source": [
    "X_train_torch[C_idx], y_train_scaled[C_idx], y_train_torch[C_idx]"
   ]
  },
  {
   "cell_type": "code",
   "execution_count": 88,
   "id": "80f78d73",
   "metadata": {},
   "outputs": [
    {
     "data": {
      "text/html": [
       "<div>\n",
       "<style scoped>\n",
       "    .dataframe tbody tr th:only-of-type {\n",
       "        vertical-align: middle;\n",
       "    }\n",
       "\n",
       "    .dataframe tbody tr th {\n",
       "        vertical-align: top;\n",
       "    }\n",
       "\n",
       "    .dataframe thead th {\n",
       "        text-align: right;\n",
       "    }\n",
       "</style>\n",
       "<table border=\"1\" class=\"dataframe\">\n",
       "  <thead>\n",
       "    <tr style=\"text-align: right;\">\n",
       "      <th></th>\n",
       "      <th>0</th>\n",
       "      <th>1</th>\n",
       "      <th>2</th>\n",
       "      <th>3</th>\n",
       "      <th>4</th>\n",
       "      <th>5</th>\n",
       "      <th>6</th>\n",
       "      <th>7</th>\n",
       "      <th>8</th>\n",
       "      <th>9</th>\n",
       "      <th>10</th>\n",
       "    </tr>\n",
       "  </thead>\n",
       "  <tbody>\n",
       "    <tr>\n",
       "      <th>0</th>\n",
       "      <td>-0.001882</td>\n",
       "      <td>-0.044642</td>\n",
       "      <td>0.054152</td>\n",
       "      <td>-0.066495</td>\n",
       "      <td>0.072732</td>\n",
       "      <td>0.056619</td>\n",
       "      <td>-0.043401</td>\n",
       "      <td>0.084863</td>\n",
       "      <td>0.084495</td>\n",
       "      <td>0.048628</td>\n",
       "      <td>0.496595</td>\n",
       "    </tr>\n",
       "    <tr>\n",
       "      <th>1</th>\n",
       "      <td>0.081666</td>\n",
       "      <td>0.050680</td>\n",
       "      <td>0.001339</td>\n",
       "      <td>0.035644</td>\n",
       "      <td>0.126395</td>\n",
       "      <td>0.091065</td>\n",
       "      <td>0.019187</td>\n",
       "      <td>0.034309</td>\n",
       "      <td>0.084495</td>\n",
       "      <td>-0.030072</td>\n",
       "      <td>0.547084</td>\n",
       "    </tr>\n",
       "    <tr>\n",
       "      <th>2</th>\n",
       "      <td>0.012648</td>\n",
       "      <td>-0.044642</td>\n",
       "      <td>0.006728</td>\n",
       "      <td>-0.056166</td>\n",
       "      <td>-0.075870</td>\n",
       "      <td>-0.066449</td>\n",
       "      <td>-0.021311</td>\n",
       "      <td>-0.037648</td>\n",
       "      <td>-0.018118</td>\n",
       "      <td>-0.092204</td>\n",
       "      <td>0.370372</td>\n",
       "    </tr>\n",
       "    <tr>\n",
       "      <th>3</th>\n",
       "      <td>0.027178</td>\n",
       "      <td>-0.044642</td>\n",
       "      <td>0.006728</td>\n",
       "      <td>0.035644</td>\n",
       "      <td>0.079612</td>\n",
       "      <td>0.070710</td>\n",
       "      <td>0.015505</td>\n",
       "      <td>0.034309</td>\n",
       "      <td>0.040672</td>\n",
       "      <td>0.011349</td>\n",
       "      <td>-1.081190</td>\n",
       "    </tr>\n",
       "    <tr>\n",
       "      <th>4</th>\n",
       "      <td>-0.070900</td>\n",
       "      <td>0.050680</td>\n",
       "      <td>-0.075186</td>\n",
       "      <td>-0.040099</td>\n",
       "      <td>-0.051103</td>\n",
       "      <td>-0.015092</td>\n",
       "      <td>-0.039719</td>\n",
       "      <td>-0.002592</td>\n",
       "      <td>-0.096433</td>\n",
       "      <td>-0.034215</td>\n",
       "      <td>-1.232658</td>\n",
       "    </tr>\n",
       "  </tbody>\n",
       "</table>\n",
       "</div>"
      ],
      "text/plain": [
       "         0         1         2         3         4         5         6   \\\n",
       "0 -0.001882 -0.044642  0.054152 -0.066495  0.072732  0.056619 -0.043401   \n",
       "1  0.081666  0.050680  0.001339  0.035644  0.126395  0.091065  0.019187   \n",
       "2  0.012648 -0.044642  0.006728 -0.056166 -0.075870 -0.066449 -0.021311   \n",
       "3  0.027178 -0.044642  0.006728  0.035644  0.079612  0.070710  0.015505   \n",
       "4 -0.070900  0.050680 -0.075186 -0.040099 -0.051103 -0.015092 -0.039719   \n",
       "\n",
       "         7         8         9         10  \n",
       "0  0.084863  0.084495  0.048628  0.496595  \n",
       "1  0.034309  0.084495 -0.030072  0.547084  \n",
       "2 -0.037648 -0.018118 -0.092204  0.370372  \n",
       "3  0.034309  0.040672  0.011349 -1.081190  \n",
       "4 -0.002592 -0.096433 -0.034215 -1.232658  "
      ]
     },
     "execution_count": 88,
     "metadata": {},
     "output_type": "execute_result"
    }
   ],
   "source": [
    "context_input = torch.cat((X_train_torch[C_idx], y_train_scaled[C_idx].reshape(-1, 1)), axis=1)\n",
    "pd.DataFrame(context_input)"
   ]
  },
  {
   "cell_type": "code",
   "execution_count": 89,
   "id": "f7cb874e",
   "metadata": {},
   "outputs": [
    {
     "data": {
      "text/plain": [
       "torch.Size([5, 32])"
      ]
     },
     "execution_count": 89,
     "metadata": {},
     "output_type": "execute_result"
    }
   ],
   "source": [
    "encoder(context_input).shape"
   ]
  },
  {
   "cell_type": "code",
   "execution_count": 90,
   "id": "4ba0fae3",
   "metadata": {},
   "outputs": [
    {
     "data": {
      "text/plain": [
       "torch.Size([32])"
      ]
     },
     "execution_count": 90,
     "metadata": {},
     "output_type": "execute_result"
    }
   ],
   "source": [
    "encoder(context_input).mean(axis=0).shape\n"
   ]
  },
  {
   "cell_type": "code",
   "execution_count": 91,
   "id": "7f66380f",
   "metadata": {},
   "outputs": [],
   "source": [
    "# Now we will build the decoder\n",
    "\n",
    "class Decoder(nn.Module):\n",
    "    def __init__(self, E=32, l1_size=32, l2_size=32, l2_reg=0.0):\n",
    "        super(Decoder, self).__init__()\n",
    "        self.l1 = nn.Linear(E, l1_size)\n",
    "        self.l2 = nn.Linear(l1_size, l2_size)\n",
    "        self.l3 = nn.Linear(l2_size, 1)\n",
    "        self.l2_reg = l2_reg\n",
    "        self.relu = nn.ReLU()\n",
    "        \n",
    "    def forward(self, x):\n",
    "        x = self.relu(self.l1(x))\n",
    "        x = self.relu(self.l2(x))\n",
    "        x = self.relu(self.l3(x))\n",
    "        return x"
   ]
  },
  {
   "cell_type": "code",
   "execution_count": 92,
   "id": "f562bde2",
   "metadata": {},
   "outputs": [
    {
     "data": {
      "text/plain": [
       "torch.Size([2, 32])"
      ]
     },
     "execution_count": 92,
     "metadata": {},
     "output_type": "execute_result"
    }
   ],
   "source": [
    "# Pass Q query vectors and the context vectors through the decoder\n",
    "\n",
    "decoder = Decoder(E =32 + D)\n",
    "mean_context = encoder(context_input).mean(axis=0)\n",
    "# Repeat the mean context vector Q times\n",
    "mean_context = mean_context.repeat(Q, 1)\n",
    "mean_context.shape"
   ]
  },
  {
   "cell_type": "code",
   "execution_count": 93,
   "id": "802dac26",
   "metadata": {},
   "outputs": [
    {
     "data": {
      "text/plain": [
       "torch.Size([2, 10])"
      ]
     },
     "execution_count": 93,
     "metadata": {},
     "output_type": "execute_result"
    }
   ],
   "source": [
    "query = X_train_torch[Q_idx]\n",
    "query.shape"
   ]
  },
  {
   "cell_type": "code",
   "execution_count": 94,
   "id": "c9a60851",
   "metadata": {},
   "outputs": [
    {
     "data": {
      "text/plain": [
       "torch.Size([2, 42])"
      ]
     },
     "execution_count": 94,
     "metadata": {},
     "output_type": "execute_result"
    }
   ],
   "source": [
    "input_decoder = torch.cat((query, mean_context), axis=1)\n",
    "input_decoder.shape"
   ]
  },
  {
   "cell_type": "code",
   "execution_count": 95,
   "id": "67932400",
   "metadata": {},
   "outputs": [
    {
     "data": {
      "text/plain": [
       "torch.Size([2, 1])"
      ]
     },
     "execution_count": 95,
     "metadata": {},
     "output_type": "execute_result"
    }
   ],
   "source": [
    "decoder(input_decoder).shape"
   ]
  },
  {
   "cell_type": "code",
   "execution_count": 96,
   "id": "a6469b9c",
   "metadata": {},
   "outputs": [],
   "source": [
    "# Building a meta learning class\n",
    "\n",
    "class Meta(nn.Module):\n",
    "    def __init__(self, D = X_train_torch.shape[1], E = 32,  C = 10, Q = 2, l1_size=32, l2_size=32, l2_reg=0.0):\n",
    "        super(Meta, self).__init__()\n",
    "        self.encoder = Encoder(D + 1, l1_size, l2_size, E, l2_reg)\n",
    "        self.decoder = Decoder(E + D, l1_size, l2_size, l2_reg)\n",
    "        self.D = D\n",
    "        self.E = E\n",
    "        self.C = C\n",
    "        self.Q = Q\n",
    "        self.l2_reg = l2_reg\n",
    "\n",
    "    def forward(self, context_input, query):\n",
    "        mean_context = self.encoder(context_input).mean(axis=0)\n",
    "        # Repeat the mean context vector Q times\n",
    "        mean_context = mean_context.repeat(self.Q, 1)\n",
    "        input_decoder = torch.cat((query, mean_context), axis=1)\n",
    "        return self.decoder(input_decoder)\n"
   ]
  },
  {
   "cell_type": "code",
   "execution_count": 97,
   "id": "be1cb370",
   "metadata": {},
   "outputs": [
    {
     "data": {
      "text/plain": [
       "tensor([[0.],\n",
       "        [0.]], grad_fn=<ReluBackward0>)"
      ]
     },
     "execution_count": 97,
     "metadata": {},
     "output_type": "execute_result"
    }
   ],
   "source": [
    "m = Meta()\n",
    "m(context_input, query)"
   ]
  },
  {
   "cell_type": "code",
   "execution_count": 98,
   "id": "03eee03e",
   "metadata": {},
   "outputs": [],
   "source": [
    "# Create a function to get the context and query vectors\n",
    "\n",
    "def get_context_query(X, y, C, Q):\n",
    "    C_idx = np.random.choice(X.shape[0], C, replace=False)\n",
    "    C_idx = torch.tensor(C_idx)\n",
    "    all_idx = np.arange(X.shape[0])\n",
    "    Q_idx = np.random.choice(np.setdiff1d(all_idx, C_idx), Q, replace=False)\n",
    "    Q_idx = torch.tensor(Q_idx)\n",
    "    context_input = torch.cat((X[C_idx], y[C_idx].reshape(-1, 1)), axis=1)\n",
    "    query = X[Q_idx]\n",
    "    return context_input, query, y[Q_idx]"
   ]
  },
  {
   "cell_type": "code",
   "execution_count": 99,
   "id": "bcfad840",
   "metadata": {},
   "outputs": [
    {
     "data": {
      "text/plain": [
       "(tensor([[-6.0003e-02, -4.4642e-02,  1.3387e-03, -2.9771e-02, -7.0728e-03,\n",
       "          -2.1669e-02,  1.1824e-02, -2.5923e-03,  3.1815e-02, -5.4925e-02,\n",
       "           2.5800e+02],\n",
       "         [ 3.0811e-02, -4.4642e-02, -5.0396e-02, -2.2277e-03, -4.4223e-02,\n",
       "          -8.9935e-02,  1.1859e-01, -7.6395e-02, -1.8118e-02,  3.0644e-03,\n",
       "           8.7000e+01],\n",
       "         [ 6.7136e-02, -4.4642e-02,  3.4944e-03,  3.5644e-02,  4.9341e-02,\n",
       "           3.1254e-02,  7.0730e-02, -3.9493e-02, -6.0925e-04,  1.9633e-02,\n",
       "           7.3000e+01],\n",
       "         [ 1.2648e-02, -4.4642e-02,  6.7278e-03, -5.6166e-02, -7.5870e-02,\n",
       "          -6.6449e-02, -2.1311e-02, -3.7648e-02, -1.8118e-02, -9.2204e-02,\n",
       "           1.8200e+02],\n",
       "         [-6.3635e-02,  5.0680e-02, -7.9497e-02, -5.6706e-03, -7.1743e-02,\n",
       "          -6.6449e-02, -1.0266e-02, -3.9493e-02, -1.8118e-02, -5.4925e-02,\n",
       "           1.0100e+02],\n",
       "         [-1.8820e-03, -4.4642e-02, -6.6563e-02,  1.2151e-03, -2.9449e-03,\n",
       "           3.0702e-03,  1.1824e-02, -2.5923e-03, -2.0289e-02, -2.5930e-02,\n",
       "           7.9000e+01],\n",
       "         [-5.6370e-02, -4.4642e-02, -7.4108e-02, -5.0428e-02, -2.4960e-02,\n",
       "          -4.7034e-02,  9.2820e-02, -7.6395e-02, -6.1177e-02, -4.6641e-02,\n",
       "           4.8000e+01],\n",
       "         [-7.0900e-02,  5.0680e-02, -7.5186e-02, -4.0099e-02, -5.1103e-02,\n",
       "          -1.5092e-02, -3.9719e-02, -2.5923e-03, -9.6433e-02, -3.4215e-02,\n",
       "           5.5000e+01],\n",
       "         [ 3.8076e-02,  5.0680e-02, -2.9918e-02, -4.0099e-02, -3.3216e-02,\n",
       "          -2.4174e-02, -1.0266e-02, -2.5923e-03, -1.2908e-02,  3.0644e-03,\n",
       "           1.6000e+02],\n",
       "         [ 3.4443e-02,  5.0680e-02,  1.2529e-01,  2.8758e-02, -5.3855e-02,\n",
       "          -1.2900e-02, -1.0231e-01,  1.0811e-01,  2.7149e-04,  2.7917e-02,\n",
       "           3.4100e+02]]),\n",
       " tensor([[ 0.0163, -0.0446,  0.0175, -0.0229,  0.0603,  0.0444,  0.0302, -0.0026,\n",
       "           0.0372, -0.0011],\n",
       "         [-0.0418, -0.0446,  0.0477,  0.0597,  0.1278,  0.1280, -0.0250,  0.1081,\n",
       "           0.0639,  0.0403]]),\n",
       " tensor([128., 258.]))"
      ]
     },
     "execution_count": 99,
     "metadata": {},
     "output_type": "execute_result"
    }
   ],
   "source": [
    "get_context_query(X_train_torch, y_train_torch, 10, 2)"
   ]
  },
  {
   "cell_type": "code",
   "execution_count": 100,
   "id": "96b10654",
   "metadata": {},
   "outputs": [
    {
     "name": "stdout",
     "output_type": "stream",
     "text": [
      "Epoch 0 - Train loss: 0.2789093554019928\n",
      "Epoch 100 - Train loss: 1.1788500547409058\n",
      "Epoch 200 - Train loss: 0.6084457039833069\n",
      "Epoch 300 - Train loss: 0.6604040265083313\n",
      "Epoch 400 - Train loss: 0.6397659778594971\n",
      "Epoch 500 - Train loss: 0.18253237009048462\n",
      "Epoch 600 - Train loss: 0.4401477575302124\n",
      "Epoch 700 - Train loss: 0.19387057423591614\n",
      "Epoch 800 - Train loss: 1.3166064023971558\n",
      "Epoch 900 - Train loss: 0.4808962345123291\n",
      "Epoch 1000 - Train loss: 0.2843365967273712\n",
      "Epoch 1100 - Train loss: 0.35177987813949585\n",
      "Epoch 1200 - Train loss: 1.1539983749389648\n",
      "Epoch 1300 - Train loss: 2.0983378887176514\n",
      "Epoch 1400 - Train loss: 3.325526237487793\n",
      "Epoch 1500 - Train loss: 0.38105207681655884\n",
      "Epoch 1600 - Train loss: 0.16427072882652283\n",
      "Epoch 1700 - Train loss: 1.9909170866012573\n",
      "Epoch 1800 - Train loss: 0.03792643919587135\n",
      "Epoch 1900 - Train loss: 2.758319854736328\n"
     ]
    }
   ],
   "source": [
    "# Training loop\n",
    "\n",
    "train_loss = []\n",
    "val_losses = []\n",
    "test_losses = []\n",
    "for i in range(2000):\n",
    "    context_input, query, y_query = get_context_query(X_train_torch, y_train_scaled, 10, 2)\n",
    "    y_pred = m(context_input, query)\n",
    "    loss = criterion(y_pred, y_query)\n",
    "    optimizer.zero_grad()\n",
    "    loss.backward()\n",
    "    optimizer.step()\n",
    "    train_loss.append(loss.item())\n",
    "    if i % 100 == 0:\n",
    "        print(f\"Epoch {i} - Train loss: {loss.item()}\")\n",
    "\n"
   ]
  },
  {
   "cell_type": "code",
   "execution_count": 101,
   "id": "6fa197fe",
   "metadata": {},
   "outputs": [
    {
     "data": {
      "text/plain": [
       "[<matplotlib.lines.Line2D at 0x19652b4c0>]"
      ]
     },
     "execution_count": 101,
     "metadata": {},
     "output_type": "execute_result"
    },
    {
     "data": {
      "image/png": "[encoded data removed]",
      "text/plain": [
       "<Figure size 640x480 with 1 Axes>"
      ]
     },
     "metadata": {
      "image/png": {
       "height": 422,
       "width": 540
      }
     },
     "output_type": "display_data"
    }
   ],
   "source": [
    "plt.plot(train_loss)"
   ]
  },
  {
   "cell_type": "code",
   "execution_count": 102,
   "id": "f61f3470",
   "metadata": {},
   "outputs": [
    {
     "data": {
      "text/plain": [
       "torch.Size([10, 11])"
      ]
     },
     "execution_count": 102,
     "metadata": {},
     "output_type": "execute_result"
    }
   ],
   "source": [
    "context_input, _, _ = get_context_query(X_train_torch, y_train_torch, 10, query.shape[0])\n",
    "context_input.shape"
   ]
  },
  {
   "cell_type": "code",
   "execution_count": 103,
   "id": "e5d878e8",
   "metadata": {},
   "outputs": [
    {
     "data": {
      "text/plain": [
       "torch.Size([111, 10])"
      ]
     },
     "execution_count": 103,
     "metadata": {},
     "output_type": "execute_result"
    }
   ],
   "source": [
    "X_test_torch.shape"
   ]
  },
  {
   "cell_type": "code",
   "execution_count": 104,
   "id": "7fac95ee",
   "metadata": {},
   "outputs": [
    {
     "data": {
      "text/plain": [
       "torch.Size([2, 10])"
      ]
     },
     "execution_count": 104,
     "metadata": {},
     "output_type": "execute_result"
    }
   ],
   "source": [
    "query.shape"
   ]
  },
  {
   "cell_type": "code",
   "execution_count": 105,
   "id": "2d538c55",
   "metadata": {},
   "outputs": [
    {
     "data": {
      "text/plain": [
       "torch.Size([10, 11])"
      ]
     },
     "execution_count": 105,
     "metadata": {},
     "output_type": "execute_result"
    }
   ],
   "source": [
    "context_input.shape"
   ]
  },
  {
   "cell_type": "code",
   "execution_count": 106,
   "id": "1fe8d270",
   "metadata": {},
   "outputs": [
    {
     "name": "stdout",
     "output_type": "stream",
     "text": [
      "Test loss: 75.22261810302734\n"
     ]
    }
   ],
   "source": [
    "# Use whole of the test set as the query set\n",
    "query = X_test_torch\n",
    "y_query = y_test_torch\n",
    "\n",
    "# get context from the training set\n",
    "context_input, _, _ = get_context_query(X_train_torch, y_train_scaled, 10, query.shape[0])\n",
    "\n",
    "\n",
    "m = Meta(C=10, Q=query.shape[0])\n",
    "\n",
    "y_pred = m(context_input, query)\n",
    "\n",
    "# Use inverse transform to get the original values\n",
    "\n",
    "y_pred = scaler.inverse_transform(y_pred.detach().numpy())\n",
    "print(f\"Test loss: {np.sqrt(mean_squared_error(y_query, y_pred))}\")\n"
   ]
  },
  {
   "cell_type": "code",
   "execution_count": 107,
   "id": "69513933",
   "metadata": {},
   "outputs": [
    {
     "data": {
      "text/html": [
       "<div>\n",
       "<style scoped>\n",
       "    .dataframe tbody tr th:only-of-type {\n",
       "        vertical-align: middle;\n",
       "    }\n",
       "\n",
       "    .dataframe tbody tr th {\n",
       "        vertical-align: top;\n",
       "    }\n",
       "\n",
       "    .dataframe thead th {\n",
       "        text-align: right;\n",
       "    }\n",
       "</style>\n",
       "<table border=\"1\" class=\"dataframe\">\n",
       "  <thead>\n",
       "    <tr style=\"text-align: right;\">\n",
       "      <th></th>\n",
       "      <th>y_pred</th>\n",
       "      <th>y_query</th>\n",
       "    </tr>\n",
       "  </thead>\n",
       "  <tbody>\n",
       "    <tr>\n",
       "      <th>0</th>\n",
       "      <td>169.061569</td>\n",
       "      <td>78.0</td>\n",
       "    </tr>\n",
       "    <tr>\n",
       "      <th>1</th>\n",
       "      <td>168.179596</td>\n",
       "      <td>152.0</td>\n",
       "    </tr>\n",
       "    <tr>\n",
       "      <th>2</th>\n",
       "      <td>168.527161</td>\n",
       "      <td>200.0</td>\n",
       "    </tr>\n",
       "    <tr>\n",
       "      <th>3</th>\n",
       "      <td>168.452423</td>\n",
       "      <td>59.0</td>\n",
       "    </tr>\n",
       "    <tr>\n",
       "      <th>4</th>\n",
       "      <td>168.826492</td>\n",
       "      <td>311.0</td>\n",
       "    </tr>\n",
       "    <tr>\n",
       "      <th>...</th>\n",
       "      <td>...</td>\n",
       "      <td>...</td>\n",
       "    </tr>\n",
       "    <tr>\n",
       "      <th>106</th>\n",
       "      <td>169.100494</td>\n",
       "      <td>281.0</td>\n",
       "    </tr>\n",
       "    <tr>\n",
       "      <th>107</th>\n",
       "      <td>168.457611</td>\n",
       "      <td>281.0</td>\n",
       "    </tr>\n",
       "    <tr>\n",
       "      <th>108</th>\n",
       "      <td>169.019516</td>\n",
       "      <td>214.0</td>\n",
       "    </tr>\n",
       "    <tr>\n",
       "      <th>109</th>\n",
       "      <td>168.639725</td>\n",
       "      <td>96.0</td>\n",
       "    </tr>\n",
       "    <tr>\n",
       "      <th>110</th>\n",
       "      <td>169.026901</td>\n",
       "      <td>146.0</td>\n",
       "    </tr>\n",
       "  </tbody>\n",
       "</table>\n",
       "<p>111 rows × 2 columns</p>\n",
       "</div>"
      ],
      "text/plain": [
       "         y_pred  y_query\n",
       "0    169.061569     78.0\n",
       "1    168.179596    152.0\n",
       "2    168.527161    200.0\n",
       "3    168.452423     59.0\n",
       "4    168.826492    311.0\n",
       "..          ...      ...\n",
       "106  169.100494    281.0\n",
       "107  168.457611    281.0\n",
       "108  169.019516    214.0\n",
       "109  168.639725     96.0\n",
       "110  169.026901    146.0\n",
       "\n",
       "[111 rows x 2 columns]"
      ]
     },
     "execution_count": 107,
     "metadata": {},
     "output_type": "execute_result"
    }
   ],
   "source": [
    "pd.DataFrame({\"y_pred\": y_pred.reshape(-1), \"y_query\": y_query})"
   ]
  },
  {
   "cell_type": "code",
   "execution_count": null,
   "id": "42d5f7e0",
   "metadata": {},
   "outputs": [],
   "source": []
  }
 ],
 "metadata": {
  "kernelspec": {
   "display_name": "base",
   "language": "python",
   "name": "python3"
  },
  "language_info": {
   "codemirror_mode": {
    "name": "ipython",
    "version": 3
   },
   "file_extension": ".py",
   "mimetype": "text/x-python",
   "name": "python",
   "nbconvert_exporter": "python",
   "pygments_lexer": "ipython3",
   "version": "3.9.15"
  },
  "vscode": {
   "interpreter": {
    "hash": "a5a8a649fae9f7dd41e8adc1d2fca9d99b1b7a58cc684de3b9310442441ba4ba"
   }
  }
 },
 "nbformat": 4,
 "nbformat_minor": 5
}